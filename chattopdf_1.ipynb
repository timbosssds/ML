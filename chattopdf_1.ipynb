{
  "cells": [
    {
      "cell_type": "markdown",
      "metadata": {
        "id": "vjVdeaE6vtea"
      },
      "source": [
        "# Transformers, what can they do?"
      ]
    },
    {
      "cell_type": "markdown",
      "metadata": {
        "id": "fWFz3tTdvtee"
      },
      "source": [
        "Install the Transformers, Datasets, and Evaluate libraries to run this notebook."
      ]
    },
    {
      "cell_type": "code",
      "source": [
        "import os as os\n",
        "os.getcwd()"
      ],
      "metadata": {
        "colab": {
          "base_uri": "https://localhost:8080/",
          "height": 35
        },
        "id": "Bs1fXRnrvu_K",
        "outputId": "955c59e1-cb7d-48d1-983f-22188d813a22"
      },
      "execution_count": 1,
      "outputs": [
        {
          "output_type": "execute_result",
          "data": {
            "text/plain": [
              "'/content'"
            ],
            "application/vnd.google.colaboratory.intrinsic+json": {
              "type": "string"
            }
          },
          "metadata": {},
          "execution_count": 1
        }
      ]
    },
    {
      "cell_type": "code",
      "source": [
        "# !pip install PyPDF2\n",
        "# !pip install PyPDF2\n",
        "# !pip install langchain\n",
        "from langchain.text_splitter import RecursiveCharacterTextSplitter\n",
        "import PyPDF2\n",
        "sample_pdf = open(r'/content/cba.pdf', mode='rb')\n",
        "pdf_reader = PyPDF2.PdfReader(sample_pdf)\n",
        "# Create an empty string to store the text\n",
        "text = \"\"\n",
        "\n",
        "# Loop through each page of the PDF\n",
        "for page_num in range(len(pdf_reader.pages)):\n",
        "    # Get the page object\n",
        "    page = pdf_reader.pages[page_num]\n",
        "    # Extract the texst from the page and add it to the text variable\n",
        "    text += page.extract_text()\n",
        "#print(text)\n",
        "text_splitter = RecursiveCharacterTextSplitter(chunk_size=1000, chunk_overlap=0)\n",
        "texts = text_splitter.split_text(text)\n",
        "print(texts)"
      ],
      "metadata": {
        "colab": {
          "base_uri": "https://localhost:8080/"
        },
        "id": "W7Ulqh1QwtR2",
        "outputId": "11cb9a59-909e-46a7-9870-66e3515eeb55"
      },
      "execution_count": 20,
      "outputs": [
        {
          "output_type": "stream",
          "name": "stdout",
          "text": [
            "['1 Target  Market \\nDetermination  \\nPrivate Bank Account  \\nStart date: 3rd June 2023\\nNext review due: 10th September  2025\\nReview p eriod: At l east ev ery 36 months f rom  \\nthe start d ate of t his Target M arket Determination \\nWhat is a Target Market Determination?  \\nA Target Market Determination (TMD) describes the \\ncohort of customers that the product is targeted at  \\n(the Target Market) and any conditions around how  the product is distributed to customers (the  \\nDistribution Conditions).  \\nIt also describes the events or circumstances where  we are req\\nuired to review the Target Market Determination \\nfor a financial product (the Review Triggers).  \\nWhy does CommBank need to have Target Market Determin ations?  \\nWe’re required to have Target Market Determinations under law. The purpose of the law is to make sure  \\ncustomers are at the centre of our approach when  designing and distributing our financial products.', 'This document is not a substitute for the product’s  terms and conditions or other disclosure documents.  \\nWhen making a decision about this product, customers \\nmust refer to the relevant Product Disclosure  \\nStatement (PDS), Terms and Conditions or other  \\ndisclosure documents.  2 \\nTarget Market  \\nThe table below matches the Product Attributes to the Objectives and Needs of the Target Market \\nfor this Product. CBA has assessed that the Product including its Key Attributes are likely to be \\nconsistent with the Objectives and Needs of the Target Market . \\nObjectives and Needs  Product Attributes  \\nCustomers that are Commonwealth Private  \\nBank customers that require a t ransaction \\naccount for everyday use, which has a broad \\nrange of features that allows customers to conveniently  deposit and withdraw funds and  \\nmake or receive payments . •Customers can deposit, withdraw or transact  \\non the account v ia a broad range of  \\nchannels by using:\\noCard (Debit Mastercard / Platinum', 'Debit Mastercard / World Debit  \\nMastercard / Keycard);\\noOnline and App Banking;\\noPhone Banking;\\noDirect Debit Facility;\\noPeriodical Payment;\\noPayID;\\noPayTo;\\noStaff assisted channels – including  \\nBranch, Contact Centre and  \\nparticipating Australia Post o utlets; and\\noATM s.\\n•For customers that have a relationship  \\nmanager, they will have acces s to an  \\nOverdraw feature. The attributes  of the  \\nOverdraw feature are:\\noWhen there is not enough m oney in the  \\naccount to process a payment, CBA \\nmay at its sole discretion approv e or \\ndecline the payment;\\noNo overdraw fee applies however  \\ninterest is charged on any amount  \\nwhich is overdrawn (being interest  \\ncharged on negative balances );\\noThe Overdraw feature can be disabled  \\nby the customer by contac ting their  \\nrelationship manager.\\nRequire an account that earns a variable rate', 'of credit interest, subject to credit interest rates offered by CBA.  •The account earns a variable rate of creditinterest on funds held in the account. Credit\\ninterest is paid to the account balance on a\\nbanded interest rate basis, where credit 3 \\nObjectives and Needs  Product Attributes  \\ninterest is paid on the portion of the balance \\nwithin each band.  \\nRequire an account that does not charge \\nmonthly account fees.  • The account does not charge monthly account fees. Fees may apply for using certain features, however, certain fees are \\nwaived if criteria is met.  \\n \\nA separate TMD for the debit card products and the Overdraw feature can be found at  \\nhttps://www.commbank.com.au/important -info/target- market -determinations.html   \\nFinancial Situation  \\nThe Financial Situation of the Target Market are customers that  are likely to have funds available \\nto deposit for either everyday transacting or savings purposes.', 'CBA views that its processes in place will mean that the product will likely be consistent with the \\nFinancial Situation of the Target Market.  \\nEligibility criteria for the Product \\nTo hold this product, customers will need to satisfy certain eligibility criteria, including that customers must:  \\n• Be individuals aged 18 years and above and have an Australian residential address, or \\notherwise subject to exception; or \\n• In the case of domestic businesses (e.g. a sole trader, partnership, company, etc.) have an ABN or ACN where relevant ; with signatories aged 18 and above or signatories aged 16 to 18 \\nyears old with another signatory least being aged at least 18 years old; or  \\n• In the ca se of foreign companies that carry on business in Australia, be registered with ASIC. \\nThe eligibility of other types of foreign companies to be determined on a case by case basis.  \\nDistribution  Conditions', 'CBA will have oversight over how the product is promoted and issued. In addition, the below table identifies the distribution channels which the product can be sold through and sets out the conditions that apply to each channel. CBA views that the conditions specified are appropriate and are of a nature that it will be likely that the product will be distributed to the target market.  \\nProprietary:  \\nDistribution Channels  Conditions that make product distribution  \\nthrough the channel appropriate  \\nStaff assisted channels (by Private Bank relationship managers and associated staff  \\nonly)  CBA staff that distribute this product:  \\n• are appropriately trained and accredited to meet CBA’s qualification requirements;  \\n• understand and are able to discuss the  4 \\nDistribution Channels  Conditions that make product distribution  \\nthrough the channel appropriate  \\nfeatures, rates and fees of the product and \\nthe key differences between deposit \\nproducts; and', '• must follow mandatory procedures including sales guidelines and scripting.  \\nOnline channels (e.g. CommBank website, NetBank and the CommBank app)  Not applicable. This product is only available through the staff assisted channel.   \\nThird Party:  \\nDistribution Channels  Conditions that make product distribution  \\nthrough the channel appropriate  \\n Not applicable. This product is only available through CBA’s proprietary channels.  \\n \\nReview  Triggers \\nIf any of the below review triggers occur, or if an event or circumstance has occurred that would reasonably suggest that the TMD may no longer be appropriate, CBA will undertake a review of this TMD.  \\nInformation Type  Description  \\nCustomer Outcomes  Unexpected trends in customer outcomes which are significantly inconsistent with the intended product performance, including : \\n• accounts with no customer initiated transactions within  the first 6 months of \\norigination.  \\nComplaints   Unexpected trends in complaints  received from', 'customers who acquired the product, which relate to the customer’s purchase or use of the product, for example : \\n• distribution (e.g. misrepresentation or mis -\\nselling from staff) ; \\n• product suitability (e.g. sale of a Private \\nBank Account  product  to a customer  who \\nrequires a savings account that rewards customers with bonus credit interest for regular savings behavior); and  \\n• product attributes ( e.g. account is not \\npaying  credit interest ).  5 \\nInformation Type  Description  \\nIncident Data  A material incident or significant number of \\nincidents in relation to the product’s design or \\ndistribution  that identify potential breaches of \\nour legal or regulatory obligations.  \\nChanges to the Product  The material alteration of the product or product terms and c onditions  (e.g. adding to, \\nremoving or changing a key product attribute; significant change to distribution channel and distribution strategy).', 'Significant Dealings  Any significant dealing of the product to customers who are outside of the Target \\nMarket.  \\nNotification from ASIC  The receipt of a product intervention  power \\norder from ASIC  requiring CBA to immediately \\ncease retail product  distribution conduct in \\nrespect of the product.  \\nReview Trigger Information Reporting Requirements  \\nThe following information must be provided to CBA by all third parties responsible for the retail product distribution conduct of this product in accordance with this TMD, within the required timeframes:  \\nInformation Type  Description  Time Frame for Reporting  \\nProduct complaints data Information relating to complaints received including number of complaints, third party name, product name and complaint verbatim.  Quarterly and in any case no later than 10 business days from the end of the quarter.  \\n \\nProduct Issuer:  Commonwealth Bank of Australia ABN 48 123 123 124 AFSL  \\nand Australian credit license 234945']\n"
          ]
        }
      ]
    },
    {
      "cell_type": "code",
      "source": [
        "text = 'To hold this product, customers will need to satisfy certain eligibility criteria, including that customers must: Be individuals aged 18 years and above and have an Australian residential address or otherwise subject to exception and In the case of domestic businesses (e.g. a sole trader, partnership, company, etc.) have an ABN or ACN where relevant; with signatories aged 18 and above or signatories aged 16 to 18 years old with another signatory least being aged at least 18 years old; or In the case of foreign companies that carry on business in Australia, be registered with ASIC. The eligibility of other types of foreign companies to be determined on a case by case basis.'"
      ],
      "metadata": {
        "id": "tqn-3pnXRd68"
      },
      "execution_count": null,
      "outputs": []
    },
    {
      "cell_type": "code",
      "source": [
        "# test_str = ''.join(map(str, texts))\n",
        "#test_str = ('.'.join(str(x) for x in texts))\n",
        "\n",
        "def convert_list_to_string_with_speech_marks(list_items):\n",
        "  \"\"\"Converts a list to a string with speech marks at each end.\"\"\"\n",
        "  string = \" \".join(list_items)\n",
        "  string = f\"\\\"{string}\\\"\"\n",
        "  return string\n",
        "\n",
        "\n",
        "#if __name__ == \"__main__\":\n",
        "  #list_items = [\"This\", \"is\", \"a\", \"list\"]\n",
        "  list_items = texts\n",
        "  text = convert_list_to_string_with_speech_marks(list_items)\n",
        "  #print(string)\n",
        "print(text)"
      ],
      "metadata": {
        "id": "cvpoW9S2du29",
        "outputId": "e77d548d-fa35-4cfb-aa98-14a01c9f133b",
        "colab": {
          "base_uri": "https://localhost:8080/"
        }
      },
      "execution_count": 63,
      "outputs": [
        {
          "output_type": "stream",
          "name": "stdout",
          "text": [
            "\"1 Target  Market \n",
            "Determination  \n",
            "Private Bank Account  \n",
            "Start date: 3rd June 2023\n",
            "Next review due: 10th September  2025\n",
            "Review p eriod: At l east ev ery 36 months f rom  \n",
            "the start d ate of t his Target M arket Determination \n",
            "What is a Target Market Determination?  \n",
            "A Target Market Determination (TMD) describes the \n",
            "cohort of customers that the product is targeted at  \n",
            "(the Target Market) and any conditions around how  the product is distributed to customers (the  \n",
            "Distribution Conditions).  \n",
            "It also describes the events or circumstances where  we are req\n",
            "uired to review the Target Market Determination \n",
            "for a financial product (the Review Triggers).  \n",
            "Why does CommBank need to have Target Market Determin ations?  \n",
            "We’re required to have Target Market Determinations under law. The purpose of the law is to make sure  \n",
            "customers are at the centre of our approach when  designing and distributing our financial products. This document is not a substitute for the product’s  terms and conditions or other disclosure documents.  \n",
            "When making a decision about this product, customers \n",
            "must refer to the relevant Product Disclosure  \n",
            "Statement (PDS), Terms and Conditions or other  \n",
            "disclosure documents.  2 \n",
            "Target Market  \n",
            "The table below matches the Product Attributes to the Objectives and Needs of the Target Market \n",
            "for this Product. CBA has assessed that the Product including its Key Attributes are likely to be \n",
            "consistent with the Objectives and Needs of the Target Market . \n",
            "Objectives and Needs  Product Attributes  \n",
            "Customers that are Commonwealth Private  \n",
            "Bank customers that require a t ransaction \n",
            "account for everyday use, which has a broad \n",
            "range of features that allows customers to conveniently  deposit and withdraw funds and  \n",
            "make or receive payments . •Customers can deposit, withdraw or transact  \n",
            "on the account v ia a broad range of  \n",
            "channels by using:\n",
            "oCard (Debit Mastercard / Platinum Debit Mastercard / World Debit  \n",
            "Mastercard / Keycard);\n",
            "oOnline and App Banking;\n",
            "oPhone Banking;\n",
            "oDirect Debit Facility;\n",
            "oPeriodical Payment;\n",
            "oPayID;\n",
            "oPayTo;\n",
            "oStaff assisted channels – including  \n",
            "Branch, Contact Centre and  \n",
            "participating Australia Post o utlets; and\n",
            "oATM s.\n",
            "•For customers that have a relationship  \n",
            "manager, they will have acces s to an  \n",
            "Overdraw feature. The attributes  of the  \n",
            "Overdraw feature are:\n",
            "oWhen there is not enough m oney in the  \n",
            "account to process a payment, CBA \n",
            "may at its sole discretion approv e or \n",
            "decline the payment;\n",
            "oNo overdraw fee applies however  \n",
            "interest is charged on any amount  \n",
            "which is overdrawn (being interest  \n",
            "charged on negative balances );\n",
            "oThe Overdraw feature can be disabled  \n",
            "by the customer by contac ting their  \n",
            "relationship manager.\n",
            "Require an account that earns a variable rate of credit interest, subject to credit interest rates offered by CBA.  •The account earns a variable rate of creditinterest on funds held in the account. Credit\n",
            "interest is paid to the account balance on a\n",
            "banded interest rate basis, where credit 3 \n",
            "Objectives and Needs  Product Attributes  \n",
            "interest is paid on the portion of the balance \n",
            "within each band.  \n",
            "Require an account that does not charge \n",
            "monthly account fees.  • The account does not charge monthly account fees. Fees may apply for using certain features, however, certain fees are \n",
            "waived if criteria is met.  \n",
            " \n",
            "A separate TMD for the debit card products and the Overdraw feature can be found at  \n",
            "https://www.commbank.com.au/important -info/target- market -determinations.html   \n",
            "Financial Situation  \n",
            "The Financial Situation of the Target Market are customers that  are likely to have funds available \n",
            "to deposit for either everyday transacting or savings purposes. CBA views that its processes in place will mean that the product will likely be consistent with the \n",
            "Financial Situation of the Target Market.  \n",
            "Eligibility criteria for the Product \n",
            "To hold this product, customers will need to satisfy certain eligibility criteria, including that customers must:  \n",
            "• Be individuals aged 18 years and above and have an Australian residential address, or \n",
            "otherwise subject to exception; or \n",
            "• In the case of domestic businesses (e.g. a sole trader, partnership, company, etc.) have an ABN or ACN where relevant ; with signatories aged 18 and above or signatories aged 16 to 18 \n",
            "years old with another signatory least being aged at least 18 years old; or  \n",
            "• In the ca se of foreign companies that carry on business in Australia, be registered with ASIC. \n",
            "The eligibility of other types of foreign companies to be determined on a case by case basis.  \n",
            "Distribution  Conditions CBA will have oversight over how the product is promoted and issued. In addition, the below table identifies the distribution channels which the product can be sold through and sets out the conditions that apply to each channel. CBA views that the conditions specified are appropriate and are of a nature that it will be likely that the product will be distributed to the target market.  \n",
            "Proprietary:  \n",
            "Distribution Channels  Conditions that make product distribution  \n",
            "through the channel appropriate  \n",
            "Staff assisted channels (by Private Bank relationship managers and associated staff  \n",
            "only)  CBA staff that distribute this product:  \n",
            "• are appropriately trained and accredited to meet CBA’s qualification requirements;  \n",
            "• understand and are able to discuss the  4 \n",
            "Distribution Channels  Conditions that make product distribution  \n",
            "through the channel appropriate  \n",
            "features, rates and fees of the product and \n",
            "the key differences between deposit \n",
            "products; and • must follow mandatory procedures including sales guidelines and scripting.  \n",
            "Online channels (e.g. CommBank website, NetBank and the CommBank app)  Not applicable. This product is only available through the staff assisted channel.   \n",
            "Third Party:  \n",
            "Distribution Channels  Conditions that make product distribution  \n",
            "through the channel appropriate  \n",
            " Not applicable. This product is only available through CBA’s proprietary channels.  \n",
            " \n",
            "Review  Triggers \n",
            "If any of the below review triggers occur, or if an event or circumstance has occurred that would reasonably suggest that the TMD may no longer be appropriate, CBA will undertake a review of this TMD.  \n",
            "Information Type  Description  \n",
            "Customer Outcomes  Unexpected trends in customer outcomes which are significantly inconsistent with the intended product performance, including : \n",
            "• accounts with no customer initiated transactions within  the first 6 months of \n",
            "origination.  \n",
            "Complaints   Unexpected trends in complaints  received from customers who acquired the product, which relate to the customer’s purchase or use of the product, for example : \n",
            "• distribution (e.g. misrepresentation or mis -\n",
            "selling from staff) ; \n",
            "• product suitability (e.g. sale of a Private \n",
            "Bank Account  product  to a customer  who \n",
            "requires a savings account that rewards customers with bonus credit interest for regular savings behavior); and  \n",
            "• product attributes ( e.g. account is not \n",
            "paying  credit interest ).  5 \n",
            "Information Type  Description  \n",
            "Incident Data  A material incident or significant number of \n",
            "incidents in relation to the product’s design or \n",
            "distribution  that identify potential breaches of \n",
            "our legal or regulatory obligations.  \n",
            "Changes to the Product  The material alteration of the product or product terms and c onditions  (e.g. adding to, \n",
            "removing or changing a key product attribute; significant change to distribution channel and distribution strategy). Significant Dealings  Any significant dealing of the product to customers who are outside of the Target \n",
            "Market.  \n",
            "Notification from ASIC  The receipt of a product intervention  power \n",
            "order from ASIC  requiring CBA to immediately \n",
            "cease retail product  distribution conduct in \n",
            "respect of the product.  \n",
            "Review Trigger Information Reporting Requirements  \n",
            "The following information must be provided to CBA by all third parties responsible for the retail product distribution conduct of this product in accordance with this TMD, within the required timeframes:  \n",
            "Information Type  Description  Time Frame for Reporting  \n",
            "Product complaints data Information relating to complaints received including number of complaints, third party name, product name and complaint verbatim.  Quarterly and in any case no later than 10 business days from the end of the quarter.  \n",
            " \n",
            "Product Issuer:  Commonwealth Bank of Australia ABN 48 123 123 124 AFSL  \n",
            "and Australian credit license 234945\"\n"
          ]
        }
      ]
    },
    {
      "cell_type": "code",
      "source": [
        "#!pip install datasets evaluate transformers[sentencepiece]\n",
        "from transformers import pipeline\n",
        "# The default (1st one (assuming its alsways the same one) sometimes outpeforms the 2nd one, otherwise the 2nd one is the best)\n",
        "\n",
        "#question_answerer = pipeline(\"question-answering\") #no model (says it defaults to... distilbert-base-cased-distilled-squad)\n",
        "question_answerer = pipeline(\"question-answering\", model=\"deepset/roberta-base-squad2\") #best\n",
        "#question_answerer = pipeline(\"question-answering\", model=\"bert-large-cased-whole-word-masking-finetuned-squad\") #challengerfor_or_best\n",
        "#question_answerer = pipeline(\"question-answering\", model=\"distilbert-base-cased-distilled-squad\")\n",
        "#question_answerer = pipeline(\"question-answering\", model=\"bert-large-uncased-whole-word-masking-finetuned-squad\")\n",
        "#question_answerer = pipeline(\"question-answering\", model=\"deepset/xlm-roberta-large-squad2\") # nogood\n",
        "#question_answerer = pipeline(\"question-answering\", model=\"deepset/tinyroberta-squad2\") # avg\n",
        "#question_answerer = pipeline(\"question-answering\", model=\"deepset/bert-large-uncased-whole-word-masking-squad2\") #nogood\n",
        "#question_answerer = pipeline(\"question-answering\", model=\"deepset/deberta-v3-base-squad2\") #with tweaking could be good\n",
        "#question_answerer = pipeline(\"question-answering\", model=\"EricPeter/bert-base-multilingual-cased-finetuned\") #long answers, but wrong\n",
        "#question_answerer = pipeline(\"question-answering\", model=\"ssunny/distilbert-base-uncased-finetuned-squad\") #nogood\n",
        "#question_answerer = pipeline(\"question-answering\", model=\"anas-awadalla/gpt2-large-lr-1e5-span-head-finetuned-squad\") #very slow & nothing special\n",
        "\n",
        "\n",
        "#response = question_answerer(question=\"target market?\", context=text,)\n",
        "response = question_answerer(question=\"what is the Eligibility criteria for the Product\", context=text, max_answer_len=1024, top_p=1)\n",
        "#response = question_answerer(question=\"what is the Eligibility criteria for the Product\", context=test_str, max_answer_len=1024, top_p=5)\n",
        "\n",
        "\n",
        "#outline product attributes\" | distribution channels | what is the Eligibility criteria for the Product | in the case of domestic\n",
        "\n",
        "response = response[list(response)[-1]]\n",
        "print(response)\n"
      ],
      "metadata": {
        "colab": {
          "base_uri": "https://localhost:8080/"
        },
        "id": "YjuDxlCwxKZN",
        "outputId": "9f5d5e8b-285a-47e8-fc21-a4ffe86f3e17"
      },
      "execution_count": 61,
      "outputs": [
        {
          "output_type": "stream",
          "name": "stdout",
          "text": [
            "customers must:  \n",
            "• Be individuals aged 18 years and above and have an Australian residential address\n"
          ]
        }
      ]
    },
    {
      "cell_type": "code",
      "source": [
        "#!pip install textgenrnn\n",
        "#!pip install faiss"
      ],
      "metadata": {
        "id": "F3ezEv7ckxUY",
        "outputId": "fbe4bfa2-6b2d-42bc-9877-18affbb261b1",
        "colab": {
          "base_uri": "https://localhost:8080/"
        }
      },
      "execution_count": 56,
      "outputs": [
        {
          "output_type": "stream",
          "name": "stdout",
          "text": [
            "\u001b[31mERROR: Could not find a version that satisfies the requirement faiss (from versions: none)\u001b[0m\u001b[31m\n",
            "\u001b[0m\u001b[31mERROR: No matching distribution found for faiss\u001b[0m\u001b[31m\n",
            "\u001b[0m"
          ]
        }
      ]
    },
    {
      "cell_type": "code",
      "source": [
        "import gensim\n",
        "\n",
        "def generate_embeddings(text):\n",
        "  \"\"\"Generates embeddings using the Gensim library.\"\"\"\n",
        "  model = gensim.models.Word2Vec(text, min_count=1)\n",
        "  embeddings = model.wv.vectors\n",
        "  return embeddings\n",
        "\n",
        "if __name__ == \"__main__\":\n",
        "  #text = \"This is a sample text.\"\n",
        "  text = texts\n",
        "  embeddings = generate_embeddings(text)\n",
        "  print(embeddings)\n",
        "vectorstore = FAISS.from_texts(texts, embeddings)\n"
      ],
      "metadata": {
        "id": "xtWwwM7gvu7p",
        "outputId": "74477709-076e-43de-a2e7-f00d8634bc69",
        "colab": {
          "base_uri": "https://localhost:8080/",
          "height": 464
        }
      },
      "execution_count": 55,
      "outputs": [
        {
          "output_type": "stream",
          "name": "stderr",
          "text": [
            "WARNING:gensim.models.word2vec:Each 'sentences' item should be a list of words (usually unicode strings). First item here is instead plain <class 'str'>.\n"
          ]
        },
        {
          "output_type": "stream",
          "name": "stdout",
          "text": [
            "[[-0.01501279  0.12369943  0.00520667 ... -0.10290642  0.10782211\n",
            "  -0.12256813]\n",
            " [-0.02134777  0.1391802   0.00633027 ... -0.10705012  0.10936543\n",
            "  -0.13764007]\n",
            " [-0.0117774   0.12153678 -0.00472573 ... -0.09047943  0.1116282\n",
            "  -0.13097765]\n",
            " ...\n",
            " [-0.00820541  0.00184102  0.00638936 ... -0.00187692 -0.00696281\n",
            "  -0.0004027 ]\n",
            " [-0.00908068  0.01275452 -0.00575135 ... -0.00233275  0.0137215\n",
            "  -0.00645365]\n",
            " [ 0.00590811  0.01935198 -0.00743964 ... -0.02669033  0.03060143\n",
            "  -0.02166677]]\n"
          ]
        },
        {
          "output_type": "error",
          "ename": "NameError",
          "evalue": "ignored",
          "traceback": [
            "\u001b[0;31m---------------------------------------------------------------------------\u001b[0m",
            "\u001b[0;31mNameError\u001b[0m                                 Traceback (most recent call last)",
            "\u001b[0;32m<ipython-input-55-b63ea45f5db9>\u001b[0m in \u001b[0;36m<cell line: 14>\u001b[0;34m()\u001b[0m\n\u001b[1;32m     12\u001b[0m   \u001b[0membeddings\u001b[0m \u001b[0;34m=\u001b[0m \u001b[0mgenerate_embeddings\u001b[0m\u001b[0;34m(\u001b[0m\u001b[0mtext\u001b[0m\u001b[0;34m)\u001b[0m\u001b[0;34m\u001b[0m\u001b[0;34m\u001b[0m\u001b[0m\n\u001b[1;32m     13\u001b[0m   \u001b[0mprint\u001b[0m\u001b[0;34m(\u001b[0m\u001b[0membeddings\u001b[0m\u001b[0;34m)\u001b[0m\u001b[0;34m\u001b[0m\u001b[0;34m\u001b[0m\u001b[0m\n\u001b[0;32m---> 14\u001b[0;31m \u001b[0mvectorstore\u001b[0m \u001b[0;34m=\u001b[0m \u001b[0mFAISS\u001b[0m\u001b[0;34m.\u001b[0m\u001b[0mfrom_texts\u001b[0m\u001b[0;34m(\u001b[0m\u001b[0mtexts\u001b[0m\u001b[0;34m,\u001b[0m \u001b[0membeddings\u001b[0m\u001b[0;34m)\u001b[0m\u001b[0;34m\u001b[0m\u001b[0;34m\u001b[0m\u001b[0m\n\u001b[0m",
            "\u001b[0;31mNameError\u001b[0m: name 'FAISS' is not defined"
          ]
        }
      ]
    },
    {
      "cell_type": "code",
      "source": [
        "import transformers\n",
        "\n",
        "def qa(question):\n",
        "  \"\"\"Answers questions using the Hugging Face pipeline.\"\"\"\n",
        "  model = transformers.AutoModelForQuestionAnswering.from_pretrained(\"bert-base-uncased\")\n",
        "  tokenizer = transformers.AutoTokenizer.from_pretrained(\"bert-base-uncased\")\n",
        "  inputs = tokenizer(question, return_tensors=\"pt\")\n",
        "  outputs = model(**inputs)\n",
        "  answer = outputs[\"answer\"][\"text\"]\n",
        "  return answer\n",
        "\n",
        "if __name__ == \"__main__\":\n",
        "  question = \"What is this text about?\"\n",
        "  answer = qa(question)\n",
        "  print(answer)"
      ],
      "metadata": {
        "id": "aEoy0PZhvu3h",
        "outputId": "9d67a46e-1006-40bf-e567-080303cb9d31",
        "colab": {
          "base_uri": "https://localhost:8080/",
          "height": 471
        }
      },
      "execution_count": 53,
      "outputs": [
        {
          "output_type": "stream",
          "name": "stderr",
          "text": [
            "Some weights of the model checkpoint at bert-base-uncased were not used when initializing BertForQuestionAnswering: ['cls.predictions.transform.LayerNorm.weight', 'cls.predictions.bias', 'cls.seq_relationship.weight', 'cls.predictions.transform.LayerNorm.bias', 'cls.predictions.transform.dense.weight', 'cls.predictions.transform.dense.bias', 'cls.seq_relationship.bias']\n",
            "- This IS expected if you are initializing BertForQuestionAnswering from the checkpoint of a model trained on another task or with another architecture (e.g. initializing a BertForSequenceClassification model from a BertForPreTraining model).\n",
            "- This IS NOT expected if you are initializing BertForQuestionAnswering from the checkpoint of a model that you expect to be exactly identical (initializing a BertForSequenceClassification model from a BertForSequenceClassification model).\n",
            "Some weights of BertForQuestionAnswering were not initialized from the model checkpoint at bert-base-uncased and are newly initialized: ['qa_outputs.weight', 'qa_outputs.bias']\n",
            "You should probably TRAIN this model on a down-stream task to be able to use it for predictions and inference.\n"
          ]
        },
        {
          "output_type": "error",
          "ename": "KeyError",
          "evalue": "ignored",
          "traceback": [
            "\u001b[0;31m---------------------------------------------------------------------------\u001b[0m",
            "\u001b[0;31mKeyError\u001b[0m                                  Traceback (most recent call last)",
            "\u001b[0;32m<ipython-input-53-8737545a8128>\u001b[0m in \u001b[0;36m<cell line: 12>\u001b[0;34m()\u001b[0m\n\u001b[1;32m     12\u001b[0m \u001b[0;32mif\u001b[0m \u001b[0m__name__\u001b[0m \u001b[0;34m==\u001b[0m \u001b[0;34m\"__main__\"\u001b[0m\u001b[0;34m:\u001b[0m\u001b[0;34m\u001b[0m\u001b[0;34m\u001b[0m\u001b[0m\n\u001b[1;32m     13\u001b[0m   \u001b[0mquestion\u001b[0m \u001b[0;34m=\u001b[0m \u001b[0;34m\"What is this text about?\"\u001b[0m\u001b[0;34m\u001b[0m\u001b[0;34m\u001b[0m\u001b[0m\n\u001b[0;32m---> 14\u001b[0;31m   \u001b[0manswer\u001b[0m \u001b[0;34m=\u001b[0m \u001b[0mqa\u001b[0m\u001b[0;34m(\u001b[0m\u001b[0mquestion\u001b[0m\u001b[0;34m)\u001b[0m\u001b[0;34m\u001b[0m\u001b[0;34m\u001b[0m\u001b[0m\n\u001b[0m\u001b[1;32m     15\u001b[0m   \u001b[0mprint\u001b[0m\u001b[0;34m(\u001b[0m\u001b[0manswer\u001b[0m\u001b[0;34m)\u001b[0m\u001b[0;34m\u001b[0m\u001b[0;34m\u001b[0m\u001b[0m\n",
            "\u001b[0;32m<ipython-input-53-8737545a8128>\u001b[0m in \u001b[0;36mqa\u001b[0;34m(question)\u001b[0m\n\u001b[1;32m      7\u001b[0m   \u001b[0minputs\u001b[0m \u001b[0;34m=\u001b[0m \u001b[0mtokenizer\u001b[0m\u001b[0;34m(\u001b[0m\u001b[0mquestion\u001b[0m\u001b[0;34m,\u001b[0m \u001b[0mreturn_tensors\u001b[0m\u001b[0;34m=\u001b[0m\u001b[0;34m\"pt\"\u001b[0m\u001b[0;34m)\u001b[0m\u001b[0;34m\u001b[0m\u001b[0;34m\u001b[0m\u001b[0m\n\u001b[1;32m      8\u001b[0m   \u001b[0moutputs\u001b[0m \u001b[0;34m=\u001b[0m \u001b[0mmodel\u001b[0m\u001b[0;34m(\u001b[0m\u001b[0;34m**\u001b[0m\u001b[0minputs\u001b[0m\u001b[0;34m)\u001b[0m\u001b[0;34m\u001b[0m\u001b[0;34m\u001b[0m\u001b[0m\n\u001b[0;32m----> 9\u001b[0;31m   \u001b[0manswer\u001b[0m \u001b[0;34m=\u001b[0m \u001b[0moutputs\u001b[0m\u001b[0;34m[\u001b[0m\u001b[0;34m\"answer\"\u001b[0m\u001b[0;34m]\u001b[0m\u001b[0;34m[\u001b[0m\u001b[0;34m\"text\"\u001b[0m\u001b[0;34m]\u001b[0m\u001b[0;34m\u001b[0m\u001b[0;34m\u001b[0m\u001b[0m\n\u001b[0m\u001b[1;32m     10\u001b[0m   \u001b[0;32mreturn\u001b[0m \u001b[0manswer\u001b[0m\u001b[0;34m\u001b[0m\u001b[0;34m\u001b[0m\u001b[0m\n\u001b[1;32m     11\u001b[0m \u001b[0;34m\u001b[0m\u001b[0m\n",
            "\u001b[0;32m/usr/local/lib/python3.10/dist-packages/transformers/utils/generic.py\u001b[0m in \u001b[0;36m__getitem__\u001b[0;34m(self, k)\u001b[0m\n\u001b[1;32m    316\u001b[0m         \u001b[0;32mif\u001b[0m \u001b[0misinstance\u001b[0m\u001b[0;34m(\u001b[0m\u001b[0mk\u001b[0m\u001b[0;34m,\u001b[0m \u001b[0mstr\u001b[0m\u001b[0;34m)\u001b[0m\u001b[0;34m:\u001b[0m\u001b[0;34m\u001b[0m\u001b[0;34m\u001b[0m\u001b[0m\n\u001b[1;32m    317\u001b[0m             \u001b[0minner_dict\u001b[0m \u001b[0;34m=\u001b[0m \u001b[0mdict\u001b[0m\u001b[0;34m(\u001b[0m\u001b[0mself\u001b[0m\u001b[0;34m.\u001b[0m\u001b[0mitems\u001b[0m\u001b[0;34m(\u001b[0m\u001b[0;34m)\u001b[0m\u001b[0;34m)\u001b[0m\u001b[0;34m\u001b[0m\u001b[0;34m\u001b[0m\u001b[0m\n\u001b[0;32m--> 318\u001b[0;31m             \u001b[0;32mreturn\u001b[0m \u001b[0minner_dict\u001b[0m\u001b[0;34m[\u001b[0m\u001b[0mk\u001b[0m\u001b[0;34m]\u001b[0m\u001b[0;34m\u001b[0m\u001b[0;34m\u001b[0m\u001b[0m\n\u001b[0m\u001b[1;32m    319\u001b[0m         \u001b[0;32melse\u001b[0m\u001b[0;34m:\u001b[0m\u001b[0;34m\u001b[0m\u001b[0;34m\u001b[0m\u001b[0m\n\u001b[1;32m    320\u001b[0m             \u001b[0;32mreturn\u001b[0m \u001b[0mself\u001b[0m\u001b[0;34m.\u001b[0m\u001b[0mto_tuple\u001b[0m\u001b[0;34m(\u001b[0m\u001b[0;34m)\u001b[0m\u001b[0;34m[\u001b[0m\u001b[0mk\u001b[0m\u001b[0;34m]\u001b[0m\u001b[0;34m\u001b[0m\u001b[0;34m\u001b[0m\u001b[0m\n",
            "\u001b[0;31mKeyError\u001b[0m: 'answer'"
          ]
        }
      ]
    },
    {
      "cell_type": "code",
      "source": [],
      "metadata": {
        "id": "kkDpWZiPvusd"
      },
      "execution_count": null,
      "outputs": []
    },
    {
      "cell_type": "code",
      "source": [],
      "metadata": {
        "id": "qMQtU0Obqc5R"
      },
      "execution_count": null,
      "outputs": []
    },
    {
      "cell_type": "code",
      "source": [],
      "metadata": {
        "id": "ni4h0IQYqc00"
      },
      "execution_count": null,
      "outputs": []
    },
    {
      "cell_type": "code",
      "source": [],
      "metadata": {
        "id": "wMOQHbIrqcwa"
      },
      "execution_count": null,
      "outputs": []
    },
    {
      "cell_type": "code",
      "source": [],
      "metadata": {
        "id": "L--j0tO1qctP"
      },
      "execution_count": null,
      "outputs": []
    },
    {
      "cell_type": "code",
      "source": [],
      "metadata": {
        "id": "ndV3fukTqcpl"
      },
      "execution_count": null,
      "outputs": []
    },
    {
      "cell_type": "code",
      "source": [],
      "metadata": {
        "id": "vVB_OK64qcjw"
      },
      "execution_count": null,
      "outputs": []
    },
    {
      "cell_type": "code",
      "source": [],
      "metadata": {
        "id": "TLo7fHFVqcgo"
      },
      "execution_count": null,
      "outputs": []
    },
    {
      "cell_type": "code",
      "source": [],
      "metadata": {
        "id": "E0_BFHbTqccL"
      },
      "execution_count": null,
      "outputs": []
    },
    {
      "cell_type": "code",
      "source": [],
      "metadata": {
        "id": "GPDa-geuqcTD"
      },
      "execution_count": null,
      "outputs": []
    },
    {
      "cell_type": "code",
      "execution_count": null,
      "metadata": {
        "id": "5XC9nXbIvtef"
      },
      "outputs": [],
      "source": [
        "!pip install datasets evaluate transformers[sentencepiece]"
      ]
    },
    {
      "cell_type": "code",
      "execution_count": null,
      "metadata": {
        "id": "WWV95Wq2vteg",
        "outputId": "816bed1d-903b-4183-edb9-9ab96d64a5c0"
      },
      "outputs": [
        {
          "data": {
            "text/plain": [
              "[{'label': 'POSITIVE', 'score': 0.9598047137260437}]"
            ]
          },
          "execution_count": null,
          "metadata": {},
          "output_type": "execute_result"
        }
      ],
      "source": [
        "from transformers import pipeline\n",
        "\n",
        "classifier = pipeline(\"sentiment-analysis\")\n",
        "classifier(\"I've been waiting for a HuggingFace course my whole life.\")"
      ]
    },
    {
      "cell_type": "code",
      "execution_count": null,
      "metadata": {
        "id": "IoQkZb6Jvteh",
        "outputId": "aab41085-51e7-436c-89f4-aa7f7e65b789"
      },
      "outputs": [
        {
          "data": {
            "text/plain": [
              "[{'label': 'POSITIVE', 'score': 0.9598047137260437},\n",
              " {'label': 'NEGATIVE', 'score': 0.9994558095932007}]"
            ]
          },
          "execution_count": null,
          "metadata": {},
          "output_type": "execute_result"
        }
      ],
      "source": [
        "classifier(\n",
        "    [\"I've been waiting for a HuggingFace course my whole life.\", \"I hate this so much!\"]\n",
        ")"
      ]
    },
    {
      "cell_type": "code",
      "execution_count": null,
      "metadata": {
        "id": "ujl1lOV0vtei",
        "outputId": "bab08752-b462-4cf7-f9c9-39d616860de4"
      },
      "outputs": [
        {
          "data": {
            "text/plain": [
              "{'sequence': 'This is a course about the Transformers library',\n",
              " 'labels': ['education', 'business', 'politics'],\n",
              " 'scores': [0.8445963859558105, 0.111976258456707, 0.043427448719739914]}"
            ]
          },
          "execution_count": null,
          "metadata": {},
          "output_type": "execute_result"
        }
      ],
      "source": [
        "from transformers import pipeline\n",
        "\n",
        "classifier = pipeline(\"zero-shot-classification\")\n",
        "classifier(\n",
        "    \"This is a course about the Transformers library\",\n",
        "    candidate_labels=[\"education\", \"politics\", \"business\"],\n",
        ")"
      ]
    },
    {
      "cell_type": "code",
      "execution_count": null,
      "metadata": {
        "id": "L-_5bPsEvtej",
        "outputId": "7a0495c1-6c68-47c6-c49e-90358b09d918"
      },
      "outputs": [
        {
          "data": {
            "text/plain": [
              "[{'generated_text': 'In this course, we will teach you how to understand and use '\n",
              "                    'data flow and data interchange when handling user data. We '\n",
              "                    'will be working with one or more of the most commonly used '\n",
              "                    'data flows — data flows of various types, as seen by the '\n",
              "                    'HTTP'}]"
            ]
          },
          "execution_count": null,
          "metadata": {},
          "output_type": "execute_result"
        }
      ],
      "source": [
        "from transformers import pipeline\n",
        "\n",
        "generator = pipeline(\"text-generation\")\n",
        "generator(\"In this course, we will teach you how to\")"
      ]
    },
    {
      "cell_type": "code",
      "execution_count": null,
      "metadata": {
        "id": "7VYFlEZcvtej",
        "outputId": "7a47ad6f-4e81-415d-aa8f-52e49bb38beb"
      },
      "outputs": [
        {
          "data": {
            "text/plain": [
              "[{'generated_text': 'In this course, we will teach you how to manipulate the world and '\n",
              "                    'move your mental and physical capabilities to your advantage.'},\n",
              " {'generated_text': 'In this course, we will teach you how to become an expert and '\n",
              "                    'practice realtime, and with a hands on experience on both real '\n",
              "                    'time and real'}]"
            ]
          },
          "execution_count": null,
          "metadata": {},
          "output_type": "execute_result"
        }
      ],
      "source": [
        "from transformers import pipeline\n",
        "\n",
        "generator = pipeline(\"text-generation\", model=\"distilgpt2\")\n",
        "generator(\n",
        "    \"In this course, we will teach you how to\",\n",
        "    max_length=30,\n",
        "    num_return_sequences=2,\n",
        ")"
      ]
    },
    {
      "cell_type": "code",
      "execution_count": null,
      "metadata": {
        "id": "jfsm0GkZvtek",
        "outputId": "fef272b3-5e42-4d13-e5d9-edb34c832dff"
      },
      "outputs": [
        {
          "data": {
            "text/plain": [
              "[{'sequence': 'This course will teach you all about mathematical models.',\n",
              "  'score': 0.19619831442832947,\n",
              "  'token': 30412,\n",
              "  'token_str': ' mathematical'},\n",
              " {'sequence': 'This course will teach you all about computational models.',\n",
              "  'score': 0.04052725434303284,\n",
              "  'token': 38163,\n",
              "  'token_str': ' computational'}]"
            ]
          },
          "execution_count": null,
          "metadata": {},
          "output_type": "execute_result"
        }
      ],
      "source": [
        "from transformers import pipeline\n",
        "\n",
        "unmasker = pipeline(\"fill-mask\")\n",
        "unmasker(\"This course will teach you all about <mask> models.\", top_k=2)"
      ]
    },
    {
      "cell_type": "code",
      "execution_count": null,
      "metadata": {
        "id": "agy75F3kvtek",
        "outputId": "72199735-36b3-4f8c-f3a0-d8668e5c2f0c"
      },
      "outputs": [
        {
          "data": {
            "text/plain": [
              "[{'entity_group': 'PER', 'score': 0.99816, 'word': 'Sylvain', 'start': 11, 'end': 18}, \n",
              " {'entity_group': 'ORG', 'score': 0.97960, 'word': 'Hugging Face', 'start': 33, 'end': 45}, \n",
              " {'entity_group': 'LOC', 'score': 0.99321, 'word': 'Brooklyn', 'start': 49, 'end': 57}\n",
              "]"
            ]
          },
          "execution_count": null,
          "metadata": {},
          "output_type": "execute_result"
        }
      ],
      "source": [
        "from transformers import pipeline\n",
        "\n",
        "ner = pipeline(\"ner\", grouped_entities=True)\n",
        "ner(\"My name is Sylvain and I work at Hugging Face in Brooklyn.\")"
      ]
    },
    {
      "cell_type": "code",
      "execution_count": null,
      "metadata": {
        "id": "UgHY1GJbvtel",
        "outputId": "2f314254-af64-46b9-e4b1-ad1095938f11"
      },
      "outputs": [
        {
          "data": {
            "text/plain": [
              "{'score': 0.6385916471481323, 'start': 33, 'end': 45, 'answer': 'Hugging Face'}"
            ]
          },
          "execution_count": null,
          "metadata": {},
          "output_type": "execute_result"
        }
      ],
      "source": [
        "from transformers import pipeline\n",
        "\n",
        "question_answerer = pipeline(\"question-answering\")\n",
        "question_answerer(\n",
        "    question=\"Where do I work?\",\n",
        "    context=\"My name is Sylvain and I work at Hugging Face in Brooklyn\",\n",
        ")"
      ]
    },
    {
      "cell_type": "code",
      "execution_count": null,
      "metadata": {
        "id": "yNWStp1Vvtel",
        "outputId": "dce033de-680b-4ff7-9c69-7187c5ebb354"
      },
      "outputs": [
        {
          "data": {
            "text/plain": [
              "[{'summary_text': ' America has changed dramatically during recent years . The '\n",
              "                  'number of engineering graduates in the U.S. has declined in '\n",
              "                  'traditional engineering disciplines such as mechanical, civil '\n",
              "                  ', electrical, chemical, and aeronautical engineering . Rapidly '\n",
              "                  'developing economies such as China and India, as well as other '\n",
              "                  'industrial countries in Europe and Asia, continue to encourage '\n",
              "                  'and advance engineering .'}]"
            ]
          },
          "execution_count": null,
          "metadata": {},
          "output_type": "execute_result"
        }
      ],
      "source": [
        "from transformers import pipeline\n",
        "\n",
        "summarizer = pipeline(\"summarization\")\n",
        "summarizer(\n",
        "    \"\"\"\n",
        "    America has changed dramatically during recent years. Not only has the number of\n",
        "    graduates in traditional engineering disciplines such as mechanical, civil,\n",
        "    electrical, chemical, and aeronautical engineering declined, but in most of\n",
        "    the premier American universities engineering curricula now concentrate on\n",
        "    and encourage largely the study of engineering science. As a result, there\n",
        "    are declining offerings in engineering subjects dealing with infrastructure,\n",
        "    the environment, and related issues, and greater concentration on high\n",
        "    technology subjects, largely supporting increasingly complex scientific\n",
        "    developments. While the latter is important, it should not be at the expense\n",
        "    of more traditional engineering.\n",
        "\n",
        "    Rapidly developing economies such as China and India, as well as other\n",
        "    industrial countries in Europe and Asia, continue to encourage and advance\n",
        "    the teaching of engineering. Both China and India, respectively, graduate\n",
        "    six and eight times as many traditional engineers as does the United States.\n",
        "    Other industrial countries at minimum maintain their output, while America\n",
        "    suffers an increasingly serious decline in the number of engineering graduates\n",
        "    and a lack of well-educated engineers.\n",
        "\"\"\"\n",
        ")"
      ]
    },
    {
      "cell_type": "code",
      "execution_count": null,
      "metadata": {
        "id": "VAEo7VfBvtem",
        "outputId": "0abbe691-cafb-4b8b-9011-8c6a10c90469"
      },
      "outputs": [
        {
          "data": {
            "text/plain": [
              "[{'translation_text': 'This course is produced by Hugging Face.'}]"
            ]
          },
          "execution_count": null,
          "metadata": {},
          "output_type": "execute_result"
        }
      ],
      "source": [
        "from transformers import pipeline\n",
        "\n",
        "translator = pipeline(\"translation\", model=\"Helsinki-NLP/opus-mt-fr-en\")\n",
        "translator(\"Ce cours est produit par Hugging Face.\")"
      ]
    }
  ],
  "metadata": {
    "colab": {
      "name": "Transformers, what can they do?",
      "provenance": []
    },
    "language_info": {
      "name": "python"
    },
    "kernelspec": {
      "name": "python3",
      "display_name": "Python 3"
    }
  },
  "nbformat": 4,
  "nbformat_minor": 0
}