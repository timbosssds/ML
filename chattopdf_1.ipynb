{
  "cells": [
    {
      "cell_type": "markdown",
      "metadata": {
        "id": "vjVdeaE6vtea"
      },
      "source": [
        "# Transformers, what can they do?"
      ]
    },
    {
      "cell_type": "markdown",
      "metadata": {
        "id": "fWFz3tTdvtee"
      },
      "source": [
        "Install the Transformers, Datasets, and Evaluate libraries to run this notebook."
      ]
    },
    {
      "cell_type": "code",
      "source": [
        "import os as os\n",
        "os.getcwd()"
      ],
      "metadata": {
        "colab": {
          "base_uri": "https://localhost:8080/",
          "height": 35
        },
        "id": "Bs1fXRnrvu_K",
        "outputId": "f11c72cc-d06c-41ec-89fb-10ea1c8990f8"
      },
      "execution_count": 1,
      "outputs": [
        {
          "output_type": "execute_result",
          "data": {
            "text/plain": [
              "'/content'"
            ],
            "application/vnd.google.colaboratory.intrinsic+json": {
              "type": "string"
            }
          },
          "metadata": {},
          "execution_count": 1
        }
      ]
    },
    {
      "cell_type": "code",
      "source": [
        "# !pip install PyPDF2\n",
        "# !pip install PyPDF2\n",
        "# !pip install langchain\n",
        "from langchain.text_splitter import RecursiveCharacterTextSplitter\n",
        "import PyPDF2\n",
        "sample_pdf = open(r'/content/cba.pdf', mode='rb')\n",
        "pdf_reader = PyPDF2.PdfReader(sample_pdf)\n",
        "# Create an empty string to store the text\n",
        "text = \"\"\n",
        "\n",
        "# Loop through each page of the PDF\n",
        "for page_num in range(len(pdf_reader.pages)):\n",
        "    # Get the page object\n",
        "    page = pdf_reader.pages[page_num]\n",
        "    # Extract the texst from the page and add it to the text variable\n",
        "    text += page.extract_text()\n",
        "#print(text)\n",
        "text_splitter = RecursiveCharacterTextSplitter(chunk_size=1000, chunk_overlap=0)\n",
        "texts = text_splitter.split_text(text)\n",
        "print(texts)"
      ],
      "metadata": {
        "colab": {
          "base_uri": "https://localhost:8080/"
        },
        "id": "W7Ulqh1QwtR2",
        "outputId": "b9fe9fca-34d5-4049-d2ed-a326386c97cf"
      },
      "execution_count": 3,
      "outputs": [
        {
          "output_type": "stream",
          "name": "stdout",
          "text": [
            "['1 Target  Market \\nDetermination  \\nPrivate Bank Account  \\nStart date: 3rd June 2023\\nNext review due: 10th September  2025\\nReview p eriod: At l east ev ery 36 months f rom  \\nthe start d ate of t his Target M arket Determination \\nWhat is a Target Market Determination?  \\nA Target Market Determination (TMD) describes the \\ncohort of customers that the product is targeted at  \\n(the Target Market) and any conditions around how  the product is distributed to customers (the  \\nDistribution Conditions).  \\nIt also describes the events or circumstances where  we are req\\nuired to review the Target Market Determination \\nfor a financial product (the Review Triggers).  \\nWhy does CommBank need to have Target Market Determin ations?  \\nWe’re required to have Target Market Determinations under law. The purpose of the law is to make sure  \\ncustomers are at the centre of our approach when  designing and distributing our financial products.', 'This document is not a substitute for the product’s  terms and conditions or other disclosure documents.  \\nWhen making a decision about this product, customers \\nmust refer to the relevant Product Disclosure  \\nStatement (PDS), Terms and Conditions or other  \\ndisclosure documents.  2 \\nTarget Market  \\nThe table below matches the Product Attributes to the Objectives and Needs of the Target Market \\nfor this Product. CBA has assessed that the Product including its Key Attributes are likely to be \\nconsistent with the Objectives and Needs of the Target Market . \\nObjectives and Needs  Product Attributes  \\nCustomers that are Commonwealth Private  \\nBank customers that require a t ransaction \\naccount for everyday use, which has a broad \\nrange of features that allows customers to conveniently  deposit and withdraw funds and  \\nmake or receive payments . •Customers can deposit, withdraw or transact  \\non the account v ia a broad range of  \\nchannels by using:\\noCard (Debit Mastercard / Platinum', 'Debit Mastercard / World Debit  \\nMastercard / Keycard);\\noOnline and App Banking;\\noPhone Banking;\\noDirect Debit Facility;\\noPeriodical Payment;\\noPayID;\\noPayTo;\\noStaff assisted channels – including  \\nBranch, Contact Centre and  \\nparticipating Australia Post o utlets; and\\noATM s.\\n•For customers that have a relationship  \\nmanager, they will have acces s to an  \\nOverdraw feature. The attributes  of the  \\nOverdraw feature are:\\noWhen there is not enough m oney in the  \\naccount to process a payment, CBA \\nmay at its sole discretion approv e or \\ndecline the payment;\\noNo overdraw fee applies however  \\ninterest is charged on any amount  \\nwhich is overdrawn (being interest  \\ncharged on negative balances );\\noThe Overdraw feature can be disabled  \\nby the customer by contac ting their  \\nrelationship manager.\\nRequire an account that earns a variable rate', 'of credit interest, subject to credit interest rates offered by CBA.  •The account earns a variable rate of creditinterest on funds held in the account. Credit\\ninterest is paid to the account balance on a\\nbanded interest rate basis, where credit 3 \\nObjectives and Needs  Product Attributes  \\ninterest is paid on the portion of the balance \\nwithin each band.  \\nRequire an account that does not charge \\nmonthly account fees.  • The account does not charge monthly account fees. Fees may apply for using certain features, however, certain fees are \\nwaived if criteria is met.  \\n \\nA separate TMD for the debit card products and the Overdraw feature can be found at  \\nhttps://www.commbank.com.au/important -info/target- market -determinations.html   \\nFinancial Situation  \\nThe Financial Situation of the Target Market are customers that  are likely to have funds available \\nto deposit for either everyday transacting or savings purposes.', 'CBA views that its processes in place will mean that the product will likely be consistent with the \\nFinancial Situation of the Target Market.  \\nEligibility criteria for the Product \\nTo hold this product, customers will need to satisfy certain eligibility criteria, including that customers must:  \\n• Be individuals aged 18 years and above and have an Australian residential address, or \\notherwise subject to exception; or \\n• In the case of domestic businesses (e.g. a sole trader, partnership, company, etc.) have an ABN or ACN where relevant ; with signatories aged 18 and above or signatories aged 16 to 18 \\nyears old with another signatory least being aged at least 18 years old; or  \\n• In the ca se of foreign companies that carry on business in Australia, be registered with ASIC. \\nThe eligibility of other types of foreign companies to be determined on a case by case basis.  \\nDistribution  Conditions', 'CBA will have oversight over how the product is promoted and issued. In addition, the below table identifies the distribution channels which the product can be sold through and sets out the conditions that apply to each channel. CBA views that the conditions specified are appropriate and are of a nature that it will be likely that the product will be distributed to the target market.  \\nProprietary:  \\nDistribution Channels  Conditions that make product distribution  \\nthrough the channel appropriate  \\nStaff assisted channels (by Private Bank relationship managers and associated staff  \\nonly)  CBA staff that distribute this product:  \\n• are appropriately trained and accredited to meet CBA’s qualification requirements;  \\n• understand and are able to discuss the  4 \\nDistribution Channels  Conditions that make product distribution  \\nthrough the channel appropriate  \\nfeatures, rates and fees of the product and \\nthe key differences between deposit \\nproducts; and', '• must follow mandatory procedures including sales guidelines and scripting.  \\nOnline channels (e.g. CommBank website, NetBank and the CommBank app)  Not applicable. This product is only available through the staff assisted channel.   \\nThird Party:  \\nDistribution Channels  Conditions that make product distribution  \\nthrough the channel appropriate  \\n Not applicable. This product is only available through CBA’s proprietary channels.  \\n \\nReview  Triggers \\nIf any of the below review triggers occur, or if an event or circumstance has occurred that would reasonably suggest that the TMD may no longer be appropriate, CBA will undertake a review of this TMD.  \\nInformation Type  Description  \\nCustomer Outcomes  Unexpected trends in customer outcomes which are significantly inconsistent with the intended product performance, including : \\n• accounts with no customer initiated transactions within  the first 6 months of \\norigination.  \\nComplaints   Unexpected trends in complaints  received from', 'customers who acquired the product, which relate to the customer’s purchase or use of the product, for example : \\n• distribution (e.g. misrepresentation or mis -\\nselling from staff) ; \\n• product suitability (e.g. sale of a Private \\nBank Account  product  to a customer  who \\nrequires a savings account that rewards customers with bonus credit interest for regular savings behavior); and  \\n• product attributes ( e.g. account is not \\npaying  credit interest ).  5 \\nInformation Type  Description  \\nIncident Data  A material incident or significant number of \\nincidents in relation to the product’s design or \\ndistribution  that identify potential breaches of \\nour legal or regulatory obligations.  \\nChanges to the Product  The material alteration of the product or product terms and c onditions  (e.g. adding to, \\nremoving or changing a key product attribute; significant change to distribution channel and distribution strategy).', 'Significant Dealings  Any significant dealing of the product to customers who are outside of the Target \\nMarket.  \\nNotification from ASIC  The receipt of a product intervention  power \\norder from ASIC  requiring CBA to immediately \\ncease retail product  distribution conduct in \\nrespect of the product.  \\nReview Trigger Information Reporting Requirements  \\nThe following information must be provided to CBA by all third parties responsible for the retail product distribution conduct of this product in accordance with this TMD, within the required timeframes:  \\nInformation Type  Description  Time Frame for Reporting  \\nProduct complaints data Information relating to complaints received including number of complaints, third party name, product name and complaint verbatim.  Quarterly and in any case no later than 10 business days from the end of the quarter.  \\n \\nProduct Issuer:  Commonwealth Bank of Australia ABN 48 123 123 124 AFSL  \\nand Australian credit license 234945']\n"
          ]
        }
      ]
    },
    {
      "cell_type": "code",
      "source": [],
      "metadata": {
        "id": "4cy3YajU6wP8"
      },
      "execution_count": null,
      "outputs": []
    },
    {
      "cell_type": "code",
      "source": [
        "#!pip install datasets evaluate transformers[sentencepiece]\n",
        "from transformers import pipeline\n",
        "\n",
        "question_answerer = pipeline(\"question-answering\", model=\"deepset/roberta-base-squad2\")\n",
        "#response = question_answerer(question=\"target market?\", context=text,)\n",
        "response = question_answerer(question=\"target market?\", context=text, max_answer_len=450, top_k=1)\n",
        "\n",
        "#response = question_answerer(question=question, context=text, max_answer_length=300, top_k=1)\n",
        "response = response[list(response)[-1]]\n",
        "print(response)\n"
      ],
      "metadata": {
        "colab": {
          "base_uri": "https://localhost:8080/"
        },
        "id": "YjuDxlCwxKZN",
        "outputId": "0c92845e-c9e2-4892-b304-9157a3953df1"
      },
      "execution_count": 39,
      "outputs": [
        {
          "output_type": "stream",
          "name": "stdout",
          "text": [
            "\n",
            "cohort of customers that the product is targeted at  \n",
            "(the Target Market) and any conditions around how  the product is distributed to customers\n"
          ]
        }
      ]
    },
    {
      "cell_type": "code",
      "source": [
        "  question_answerer = pipeline(\"question-answering\", model=\"deepset/roberta-base-squad2\", max_answer_len=1024)\n",
        "  response = question_answerer(question=\"target market?\", context=text,)\n",
        "  response = response[list(response)[-1]]\n",
        ""
      ],
      "metadata": {
        "id": "xtWwwM7gvu7p"
      },
      "execution_count": 34,
      "outputs": []
    },
    {
      "cell_type": "code",
      "source": [],
      "metadata": {
        "id": "aEoy0PZhvu3h"
      },
      "execution_count": null,
      "outputs": []
    },
    {
      "cell_type": "code",
      "source": [],
      "metadata": {
        "id": "kkDpWZiPvusd"
      },
      "execution_count": null,
      "outputs": []
    },
    {
      "cell_type": "code",
      "execution_count": null,
      "metadata": {
        "id": "5XC9nXbIvtef"
      },
      "outputs": [],
      "source": [
        "!pip install datasets evaluate transformers[sentencepiece]"
      ]
    },
    {
      "cell_type": "code",
      "execution_count": null,
      "metadata": {
        "id": "WWV95Wq2vteg",
        "outputId": "816bed1d-903b-4183-edb9-9ab96d64a5c0"
      },
      "outputs": [
        {
          "data": {
            "text/plain": [
              "[{'label': 'POSITIVE', 'score': 0.9598047137260437}]"
            ]
          },
          "execution_count": null,
          "metadata": {},
          "output_type": "execute_result"
        }
      ],
      "source": [
        "from transformers import pipeline\n",
        "\n",
        "classifier = pipeline(\"sentiment-analysis\")\n",
        "classifier(\"I've been waiting for a HuggingFace course my whole life.\")"
      ]
    },
    {
      "cell_type": "code",
      "execution_count": null,
      "metadata": {
        "id": "IoQkZb6Jvteh",
        "outputId": "aab41085-51e7-436c-89f4-aa7f7e65b789"
      },
      "outputs": [
        {
          "data": {
            "text/plain": [
              "[{'label': 'POSITIVE', 'score': 0.9598047137260437},\n",
              " {'label': 'NEGATIVE', 'score': 0.9994558095932007}]"
            ]
          },
          "execution_count": null,
          "metadata": {},
          "output_type": "execute_result"
        }
      ],
      "source": [
        "classifier(\n",
        "    [\"I've been waiting for a HuggingFace course my whole life.\", \"I hate this so much!\"]\n",
        ")"
      ]
    },
    {
      "cell_type": "code",
      "execution_count": null,
      "metadata": {
        "id": "ujl1lOV0vtei",
        "outputId": "bab08752-b462-4cf7-f9c9-39d616860de4"
      },
      "outputs": [
        {
          "data": {
            "text/plain": [
              "{'sequence': 'This is a course about the Transformers library',\n",
              " 'labels': ['education', 'business', 'politics'],\n",
              " 'scores': [0.8445963859558105, 0.111976258456707, 0.043427448719739914]}"
            ]
          },
          "execution_count": null,
          "metadata": {},
          "output_type": "execute_result"
        }
      ],
      "source": [
        "from transformers import pipeline\n",
        "\n",
        "classifier = pipeline(\"zero-shot-classification\")\n",
        "classifier(\n",
        "    \"This is a course about the Transformers library\",\n",
        "    candidate_labels=[\"education\", \"politics\", \"business\"],\n",
        ")"
      ]
    },
    {
      "cell_type": "code",
      "execution_count": null,
      "metadata": {
        "id": "L-_5bPsEvtej",
        "outputId": "7a0495c1-6c68-47c6-c49e-90358b09d918"
      },
      "outputs": [
        {
          "data": {
            "text/plain": [
              "[{'generated_text': 'In this course, we will teach you how to understand and use '\n",
              "                    'data flow and data interchange when handling user data. We '\n",
              "                    'will be working with one or more of the most commonly used '\n",
              "                    'data flows — data flows of various types, as seen by the '\n",
              "                    'HTTP'}]"
            ]
          },
          "execution_count": null,
          "metadata": {},
          "output_type": "execute_result"
        }
      ],
      "source": [
        "from transformers import pipeline\n",
        "\n",
        "generator = pipeline(\"text-generation\")\n",
        "generator(\"In this course, we will teach you how to\")"
      ]
    },
    {
      "cell_type": "code",
      "execution_count": null,
      "metadata": {
        "id": "7VYFlEZcvtej",
        "outputId": "7a47ad6f-4e81-415d-aa8f-52e49bb38beb"
      },
      "outputs": [
        {
          "data": {
            "text/plain": [
              "[{'generated_text': 'In this course, we will teach you how to manipulate the world and '\n",
              "                    'move your mental and physical capabilities to your advantage.'},\n",
              " {'generated_text': 'In this course, we will teach you how to become an expert and '\n",
              "                    'practice realtime, and with a hands on experience on both real '\n",
              "                    'time and real'}]"
            ]
          },
          "execution_count": null,
          "metadata": {},
          "output_type": "execute_result"
        }
      ],
      "source": [
        "from transformers import pipeline\n",
        "\n",
        "generator = pipeline(\"text-generation\", model=\"distilgpt2\")\n",
        "generator(\n",
        "    \"In this course, we will teach you how to\",\n",
        "    max_length=30,\n",
        "    num_return_sequences=2,\n",
        ")"
      ]
    },
    {
      "cell_type": "code",
      "execution_count": null,
      "metadata": {
        "id": "jfsm0GkZvtek",
        "outputId": "fef272b3-5e42-4d13-e5d9-edb34c832dff"
      },
      "outputs": [
        {
          "data": {
            "text/plain": [
              "[{'sequence': 'This course will teach you all about mathematical models.',\n",
              "  'score': 0.19619831442832947,\n",
              "  'token': 30412,\n",
              "  'token_str': ' mathematical'},\n",
              " {'sequence': 'This course will teach you all about computational models.',\n",
              "  'score': 0.04052725434303284,\n",
              "  'token': 38163,\n",
              "  'token_str': ' computational'}]"
            ]
          },
          "execution_count": null,
          "metadata": {},
          "output_type": "execute_result"
        }
      ],
      "source": [
        "from transformers import pipeline\n",
        "\n",
        "unmasker = pipeline(\"fill-mask\")\n",
        "unmasker(\"This course will teach you all about <mask> models.\", top_k=2)"
      ]
    },
    {
      "cell_type": "code",
      "execution_count": null,
      "metadata": {
        "id": "agy75F3kvtek",
        "outputId": "72199735-36b3-4f8c-f3a0-d8668e5c2f0c"
      },
      "outputs": [
        {
          "data": {
            "text/plain": [
              "[{'entity_group': 'PER', 'score': 0.99816, 'word': 'Sylvain', 'start': 11, 'end': 18}, \n",
              " {'entity_group': 'ORG', 'score': 0.97960, 'word': 'Hugging Face', 'start': 33, 'end': 45}, \n",
              " {'entity_group': 'LOC', 'score': 0.99321, 'word': 'Brooklyn', 'start': 49, 'end': 57}\n",
              "]"
            ]
          },
          "execution_count": null,
          "metadata": {},
          "output_type": "execute_result"
        }
      ],
      "source": [
        "from transformers import pipeline\n",
        "\n",
        "ner = pipeline(\"ner\", grouped_entities=True)\n",
        "ner(\"My name is Sylvain and I work at Hugging Face in Brooklyn.\")"
      ]
    },
    {
      "cell_type": "code",
      "execution_count": null,
      "metadata": {
        "id": "UgHY1GJbvtel",
        "outputId": "2f314254-af64-46b9-e4b1-ad1095938f11"
      },
      "outputs": [
        {
          "data": {
            "text/plain": [
              "{'score': 0.6385916471481323, 'start': 33, 'end': 45, 'answer': 'Hugging Face'}"
            ]
          },
          "execution_count": null,
          "metadata": {},
          "output_type": "execute_result"
        }
      ],
      "source": [
        "from transformers import pipeline\n",
        "\n",
        "question_answerer = pipeline(\"question-answering\")\n",
        "question_answerer(\n",
        "    question=\"Where do I work?\",\n",
        "    context=\"My name is Sylvain and I work at Hugging Face in Brooklyn\",\n",
        ")"
      ]
    },
    {
      "cell_type": "code",
      "execution_count": null,
      "metadata": {
        "id": "yNWStp1Vvtel",
        "outputId": "dce033de-680b-4ff7-9c69-7187c5ebb354"
      },
      "outputs": [
        {
          "data": {
            "text/plain": [
              "[{'summary_text': ' America has changed dramatically during recent years . The '\n",
              "                  'number of engineering graduates in the U.S. has declined in '\n",
              "                  'traditional engineering disciplines such as mechanical, civil '\n",
              "                  ', electrical, chemical, and aeronautical engineering . Rapidly '\n",
              "                  'developing economies such as China and India, as well as other '\n",
              "                  'industrial countries in Europe and Asia, continue to encourage '\n",
              "                  'and advance engineering .'}]"
            ]
          },
          "execution_count": null,
          "metadata": {},
          "output_type": "execute_result"
        }
      ],
      "source": [
        "from transformers import pipeline\n",
        "\n",
        "summarizer = pipeline(\"summarization\")\n",
        "summarizer(\n",
        "    \"\"\"\n",
        "    America has changed dramatically during recent years. Not only has the number of\n",
        "    graduates in traditional engineering disciplines such as mechanical, civil,\n",
        "    electrical, chemical, and aeronautical engineering declined, but in most of\n",
        "    the premier American universities engineering curricula now concentrate on\n",
        "    and encourage largely the study of engineering science. As a result, there\n",
        "    are declining offerings in engineering subjects dealing with infrastructure,\n",
        "    the environment, and related issues, and greater concentration on high\n",
        "    technology subjects, largely supporting increasingly complex scientific\n",
        "    developments. While the latter is important, it should not be at the expense\n",
        "    of more traditional engineering.\n",
        "\n",
        "    Rapidly developing economies such as China and India, as well as other\n",
        "    industrial countries in Europe and Asia, continue to encourage and advance\n",
        "    the teaching of engineering. Both China and India, respectively, graduate\n",
        "    six and eight times as many traditional engineers as does the United States.\n",
        "    Other industrial countries at minimum maintain their output, while America\n",
        "    suffers an increasingly serious decline in the number of engineering graduates\n",
        "    and a lack of well-educated engineers.\n",
        "\"\"\"\n",
        ")"
      ]
    },
    {
      "cell_type": "code",
      "execution_count": null,
      "metadata": {
        "id": "VAEo7VfBvtem",
        "outputId": "0abbe691-cafb-4b8b-9011-8c6a10c90469"
      },
      "outputs": [
        {
          "data": {
            "text/plain": [
              "[{'translation_text': 'This course is produced by Hugging Face.'}]"
            ]
          },
          "execution_count": null,
          "metadata": {},
          "output_type": "execute_result"
        }
      ],
      "source": [
        "from transformers import pipeline\n",
        "\n",
        "translator = pipeline(\"translation\", model=\"Helsinki-NLP/opus-mt-fr-en\")\n",
        "translator(\"Ce cours est produit par Hugging Face.\")"
      ]
    }
  ],
  "metadata": {
    "colab": {
      "name": "Transformers, what can they do?",
      "provenance": []
    },
    "language_info": {
      "name": "python"
    },
    "kernelspec": {
      "name": "python3",
      "display_name": "Python 3"
    }
  },
  "nbformat": 4,
  "nbformat_minor": 0
}