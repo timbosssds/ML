{
  "nbformat": 4,
  "nbformat_minor": 0,
  "metadata": {
    "colab": {
      "provenance": [],
      "authorship_tag": "ABX9TyO2BupmxpkCN6e2cT8zohrU",
      "include_colab_link": true
    },
    "kernelspec": {
      "name": "python3",
      "display_name": "Python 3"
    },
    "language_info": {
      "name": "python"
    }
  },
  "cells": [
    {
      "cell_type": "markdown",
      "metadata": {
        "id": "view-in-github",
        "colab_type": "text"
      },
      "source": [
        "<a href=\"https://colab.research.google.com/github/timbosssds/ML/blob/main/Chatbot_with_citation.ipynb\" target=\"_parent\"><img src=\"https://colab.research.google.com/assets/colab-badge.svg\" alt=\"Open In Colab\"/></a>"
      ]
    },
    {
      "cell_type": "code",
      "source": [
        "# Install required libraries\n",
        "#!pip install -qU transformers accelerate einops langchain xformers bitsandbytes faiss-gpu sentence_transformers\n",
        "#!pip install pypdf\n",
        "#!pip install PyPDF2"
      ],
      "metadata": {
        "colab": {
          "base_uri": "https://localhost:8080/"
        },
        "id": "XecVz8WVmcvN",
        "outputId": "7af951de-9f2c-4909-c417-c70fe7a28088"
      },
      "execution_count": 8,
      "outputs": [
        {
          "output_type": "stream",
          "name": "stdout",
          "text": [
            "Collecting PyPDF2\n",
            "  Downloading pypdf2-3.0.1-py3-none-any.whl (232 kB)\n",
            "\u001b[2K     \u001b[90m━━━━━━━━━━━━━━━━━━━━━━━━━━━━━━━━━━━━━━━━\u001b[0m \u001b[32m232.6/232.6 kB\u001b[0m \u001b[31m2.7 MB/s\u001b[0m eta \u001b[36m0:00:00\u001b[0m\n",
            "\u001b[?25hInstalling collected packages: PyPDF2\n",
            "Successfully installed PyPDF2-3.0.1\n"
          ]
        }
      ]
    },
    {
      "cell_type": "code",
      "source": [
        "# MileStone 1\n",
        "# -- end-to-end (No Citations)\n",
        "\n",
        "# -- 1.0 Load the PDF document\n",
        "from langchain.document_loaders import PyPDFLoader\n",
        "from langchain.text_splitter import RecursiveCharacterTextSplitter\n",
        "import PyPDF2\n",
        "#PDF_PATH = open(r'/content/cba_fsg.pdf', mode='rb')\n",
        "PDF_PATH = '/content/cba_fsg.pdf'\n",
        "loader = PyPDF2.PdfReader(PDF_PATH)\n",
        "\n",
        "# -- 2.0 Create an empty string to store the text\n",
        "text = \"\"\n",
        "# Loop through each page of the PDF\n",
        "for page_num in range(len(loader.pages)):\n",
        "    # Get the page object\n",
        "    page = loader.pages[page_num]\n",
        "    # Extract the texst from the page and add it to the text variable\n",
        "    text += page.extract_text()\n",
        "\n",
        "text_splitter = RecursiveCharacterTextSplitter(chunk_size=1000, chunk_overlap=0)\n",
        "texts = text_splitter.split_text(text)\n",
        "\n",
        "# -- 3.0 Process text\n",
        "def convert_list_to_string_with_speech_marks(list_items):\n",
        "  \"\"\"Converts a list to a string with speech marks at each end.\"\"\"\n",
        "  string = \" \".join(list_items)\n",
        "  string = f\"\\\"{string}\\\"\"\n",
        "  return string\n",
        "list_items = texts\n",
        "text = convert_list_to_string_with_speech_marks(list_items)\n",
        "\n",
        "# -- Model\n",
        "context=text\n",
        "from transformers import pipeline\n",
        "def generate_answer(question, context):\n",
        "  \"\"\"Generates an answer to a question given a context.\"\"\"\n",
        "  question_answerer = pipeline(\"question-answering\", model=\"deepset/roberta-base-squad2\")\n",
        "  response = question_answerer(question=question, context=text, max_answer_len=1024, top_p=1)\n",
        "  response = response[list(response)[-1]]\n",
        "  return response\n",
        "\n",
        "# -- Call model and produce answer\n",
        "# Generate an answer to the question\n",
        "#question = \"what is the Eligibility criteria for the Product\"\n",
        "question = \"what is the date\"\n",
        "\n",
        "answer = generate_answer(question, context)\n",
        "print(answer)"
      ],
      "metadata": {
        "colab": {
          "base_uri": "https://localhost:8080/"
        },
        "id": "EsfhAbQI5bn-",
        "outputId": "ca40ef38-d213-4867-972c-c9f037ec0398"
      },
      "execution_count": 1,
      "outputs": [
        {
          "output_type": "stream",
          "name": "stdout",
          "text": [
            "1 October 2022\n"
          ]
        }
      ]
    },
    {
      "cell_type": "code",
      "source": [],
      "metadata": {
        "id": "jDY6-Qga_Jk6"
      },
      "execution_count": null,
      "outputs": []
    },
    {
      "cell_type": "code",
      "source": [
        "# MileStone 2\n",
        "# -- end-to-end (With Citations)\n",
        "# -- 1.0 Load the PDF document\n",
        "from langchain.document_loaders import PyPDFLoader\n",
        "from langchain.text_splitter import RecursiveCharacterTextSplitter\n",
        "import PyPDF2\n",
        "#PDF_PATH = open(r'/content/cba_fsg.pdf', mode='rb')\n",
        "PDF_PATH = '/content/cba_fsg.pdf'\n",
        "loader = PyPDF2.PdfReader(PDF_PATH)\n",
        "\n",
        "# -- 2.0 Create an empty string to store the text\n",
        "text = \"\"\n",
        "# Loop through each page of the PDF\n",
        "for page_num in range(len(loader.pages)):\n",
        "    # Get the page object\n",
        "    page = loader.pages[page_num]\n",
        "    # Extract the texst from the page and add it to the text variable\n",
        "    text += page.extract_text()\n",
        "\n",
        "text_splitter = RecursiveCharacterTextSplitter(chunk_size=1000, chunk_overlap=0)\n",
        "texts = text_splitter.split_text(text)\n",
        "\n",
        "# -- 3.0 Process text\n",
        "def convert_list_to_string_with_speech_marks(list_items):\n",
        "  \"\"\"Converts a list to a string with speech marks at each end.\"\"\"\n",
        "  string = \" \".join(list_items)\n",
        "  string = f\"\\\"{string}\\\"\"\n",
        "  return string\n",
        "list_items = texts\n",
        "text = convert_list_to_string_with_speech_marks(list_items)\n",
        "\n",
        "# -- Model\n",
        "context=text\n",
        "# Define a function to generate an answer to a question with citations\n",
        "from transformers import pipeline\n",
        "\n",
        "def generate_answer_with_citations(question, context):\n",
        "    \"\"\"Generates an answer to a question given a context and provides citations.\"\"\"\n",
        "    question_answerer = pipeline(\"question-answering\", model=\"deepset/roberta-base-squad2\")\n",
        "    response = question_answerer(question=question, context=context, max_answer_len=1024, top_p=1)\n",
        "    answer_text = response[list(response)[-1]]\n",
        "    answer_start = response[\"start\"]\n",
        "    answer_end = response[\"end\"]\n",
        "\n",
        "    # Get the passage containing the answer\n",
        "    start_index = max(0, context.rfind(\".\", 0, answer_start))\n",
        "    end_index = min(len(context), context.find(\".\", answer_end))\n",
        "    passage_with_answer = context[start_index:end_index].strip()\n",
        "\n",
        "    # Get the citation (page number) of the passage\n",
        "    page_number = context.count(\".\", 0, start_index) + 1\n",
        "\n",
        "    return {\n",
        "        \"answer\": answer_text,\n",
        "        \"passage\": passage_with_answer,\n",
        "        \"citation\": f\"Page {page_number}\"\n",
        "    }\n",
        "\n",
        "# Example usage\n",
        "question = \"what is the date\"\n",
        "answer_info = generate_answer_with_citations(question, context)\n",
        "print(\"Answer:\", answer_info[\"answer\"])\n",
        "print(\"Passage:\", answer_info[\"passage\"])\n",
        "print(\"Citation:\", answer_info[\"citation\"])"
      ],
      "metadata": {
        "id": "5Qrubmmw_Jem"
      },
      "execution_count": null,
      "outputs": []
    },
    {
      "cell_type": "code",
      "source": [],
      "metadata": {
        "id": "-A0cTHPa5bfw"
      },
      "execution_count": null,
      "outputs": []
    },
    {
      "cell_type": "code",
      "source": [
        "# -- All below is WIP..."
      ],
      "metadata": {
        "id": "0YEMKfx95bci"
      },
      "execution_count": null,
      "outputs": []
    },
    {
      "cell_type": "code",
      "source": [],
      "metadata": {
        "id": "yBT83oF8AF5A"
      },
      "execution_count": 1,
      "outputs": []
    },
    {
      "cell_type": "code",
      "source": [],
      "metadata": {
        "id": "Td2XSwCfAFym"
      },
      "execution_count": null,
      "outputs": []
    },
    {
      "cell_type": "code",
      "source": [],
      "metadata": {
        "id": "rehELAQ-AFvg"
      },
      "execution_count": null,
      "outputs": []
    },
    {
      "cell_type": "code",
      "source": [
        "# Define a function to generate an answer to a question with citations\n",
        "from transformers import pipeline\n",
        "\n",
        "def generate_answer_with_citations(question, context):\n",
        "    \"\"\"Generates an answer to a question given a context and provides citations.\"\"\"\n",
        "    question_answerer = pipeline(\"question-answering\", model=\"deepset/roberta-base-squad2\")\n",
        "    response = question_answerer(question=question, context=context, max_answer_len=1024, top_p=1)\n",
        "    answer_text = response[list(response)[-1]]\n",
        "    answer_start = response[\"start\"]\n",
        "    answer_end = response[\"end\"]\n",
        "\n",
        "    # Get the passage containing the answer\n",
        "    start_index = max(0, context.rfind(\".\", 0, answer_start))\n",
        "    end_index = min(len(context), context.find(\".\", answer_end))\n",
        "    passage_with_answer = context[start_index:end_index].strip()\n",
        "\n",
        "    # Get the citation (page number) of the passage\n",
        "    page_number = context.count(\".\", 0, start_index) + 1\n",
        "\n",
        "    return {\n",
        "        \"answer\": answer_text,\n",
        "        \"passage\": passage_with_answer,\n",
        "        \"citation\": f\"Page {page_number}\"\n",
        "    }\n",
        "\n",
        "# Example usage\n",
        "question = \"what is the date\"\n",
        "answer_info = generate_answer_with_citations(question, context)\n",
        "print(\"Answer:\", answer_info[\"answer\"])\n",
        "print(\"Passage:\", answer_info[\"passage\"])\n",
        "print(\"Citation:\", answer_info[\"citation\"])\n",
        "\n"
      ],
      "metadata": {
        "colab": {
          "base_uri": "https://localhost:8080/",
          "height": 245
        },
        "id": "N7Dy-sXk6K83",
        "outputId": "a6904740-ed89-4612-a6ab-5520dccc9cdd"
      },
      "execution_count": 1,
      "outputs": [
        {
          "output_type": "error",
          "ename": "NameError",
          "evalue": "ignored",
          "traceback": [
            "\u001b[0;31m---------------------------------------------------------------------------\u001b[0m",
            "\u001b[0;31mNameError\u001b[0m                                 Traceback (most recent call last)",
            "\u001b[0;32m<ipython-input-1-8c6eb647df45>\u001b[0m in \u001b[0;36m<cell line: 28>\u001b[0;34m()\u001b[0m\n\u001b[1;32m     26\u001b[0m \u001b[0;31m# Example usage\u001b[0m\u001b[0;34m\u001b[0m\u001b[0;34m\u001b[0m\u001b[0m\n\u001b[1;32m     27\u001b[0m \u001b[0mquestion\u001b[0m \u001b[0;34m=\u001b[0m \u001b[0;34m\"what is the date\"\u001b[0m\u001b[0;34m\u001b[0m\u001b[0;34m\u001b[0m\u001b[0m\n\u001b[0;32m---> 28\u001b[0;31m \u001b[0manswer_info\u001b[0m \u001b[0;34m=\u001b[0m \u001b[0mgenerate_answer_with_citations\u001b[0m\u001b[0;34m(\u001b[0m\u001b[0mquestion\u001b[0m\u001b[0;34m,\u001b[0m \u001b[0mcontext\u001b[0m\u001b[0;34m)\u001b[0m\u001b[0;34m\u001b[0m\u001b[0;34m\u001b[0m\u001b[0m\n\u001b[0m\u001b[1;32m     29\u001b[0m \u001b[0mprint\u001b[0m\u001b[0;34m(\u001b[0m\u001b[0;34m\"Answer:\"\u001b[0m\u001b[0;34m,\u001b[0m \u001b[0manswer_info\u001b[0m\u001b[0;34m[\u001b[0m\u001b[0;34m\"answer\"\u001b[0m\u001b[0;34m]\u001b[0m\u001b[0;34m)\u001b[0m\u001b[0;34m\u001b[0m\u001b[0;34m\u001b[0m\u001b[0m\n\u001b[1;32m     30\u001b[0m \u001b[0mprint\u001b[0m\u001b[0;34m(\u001b[0m\u001b[0;34m\"Passage:\"\u001b[0m\u001b[0;34m,\u001b[0m \u001b[0manswer_info\u001b[0m\u001b[0;34m[\u001b[0m\u001b[0;34m\"passage\"\u001b[0m\u001b[0;34m]\u001b[0m\u001b[0;34m)\u001b[0m\u001b[0;34m\u001b[0m\u001b[0;34m\u001b[0m\u001b[0m\n",
            "\u001b[0;31mNameError\u001b[0m: name 'context' is not defined"
          ]
        }
      ]
    },
    {
      "cell_type": "code",
      "source": [],
      "metadata": {
        "id": "wmfcbLgv6K3l"
      },
      "execution_count": null,
      "outputs": []
    },
    {
      "cell_type": "code",
      "source": [],
      "metadata": {
        "id": "qBhy4xsM6Kz9"
      },
      "execution_count": null,
      "outputs": []
    },
    {
      "cell_type": "code",
      "source": [],
      "metadata": {
        "id": "ELVIvz5M6Kw9"
      },
      "execution_count": null,
      "outputs": []
    },
    {
      "cell_type": "code",
      "source": [],
      "metadata": {
        "id": "WdE7SbWD6Ktt"
      },
      "execution_count": null,
      "outputs": []
    },
    {
      "cell_type": "code",
      "source": [
        "\n",
        "\n",
        "# Load the PDF document\n",
        "from langchain.document_loaders import PyPDFLoader\n",
        "from langchain.text_splitter import RecursiveCharacterTextSplitter\n",
        "import PyPDF2\n",
        "#PDF_PATH = open(r'/content/cba_fsg.pdf', mode='rb')\n",
        "PDF_PATH = '/content/cba_fsg.pdf'\n",
        "loader = PyPDF2.PdfReader(PDF_PATH)\n",
        "\n",
        "# Create an empty string to store the text\n",
        "text = \"\"\n",
        "# Loop through each page of the PDF\n",
        "for page_num in range(len(loader.pages)):\n",
        "    # Get the page object\n",
        "    page = loader.pages[page_num]\n",
        "    # Extract the texst from the page and add it to the text variable\n",
        "    text += page.extract_text()\n",
        "#print(text)\n",
        "\n",
        "text_splitter = RecursiveCharacterTextSplitter(chunk_size=1000, chunk_overlap=0)\n",
        "texts = text_splitter.split_text(text)\n",
        "print(texts)\n",
        "\n",
        "# Create a retriever using Faiss\n",
        "from faiss import IndexFlatL2\n",
        "retriever = IndexFlatL2(128)\n",
        "\n",
        "# Embed each passage\n",
        "from sentence_transformers import SentenceTransformer\n",
        "embedder = SentenceTransformer(\"all-MiniLM-L6-v2\")\n",
        "passage_embeddings = embedder.encode(texts)"
      ],
      "metadata": {
        "colab": {
          "base_uri": "https://localhost:8080/"
        },
        "id": "2LPyg9AB-uz2",
        "outputId": "3c59c769-4b1c-486b-e214-8b930c6bc676"
      },
      "execution_count": 4,
      "outputs": [
        {
          "output_type": "stream",
          "name": "stdout",
          "text": [
            "['Financial \\nServices  \\nGuide.\\nDated 1 October 2022\\nWe are required under the Corporations Act to \\nprovide you with the following  information:\\nThis Financial Services Guide (FSG) is issued by \\nCommonwealth Bank of Australia (‘Bank’, ‘we’, \\n‘our’ or ‘us’) and is intended to provide you with \\ninformation that will assist you in making informed \\ndecisions on whether you want to use our products \\nand services. It includes details about t he following:\\n• financial services we are able to pr ovide to you;\\n• how we and our staff are paid for p roviding you  \\nwith th ose services;\\n• how to co ntact us; and\\n• the internal and external dispute resolution \\nsystems you can use if you have a complaint to \\nmake about us.\\nNot Independent\\nOur employees who give personal advice \\nto retail clients about deposit products and \\nrelated payment facilities are not independent, \\nimpartial or unbiased because our employees \\nare employed and remunerated by us and can \\nonly advise on our products.\\nFinancial', 'Services  \\nGuide.Our products and services\\nOur Australian Financial Services Licence authorises us to deal \\nin and provide financial product advice relating to the following \\nproduct groups:\\n• Banking products, such as deposit accounts and payme nt \\nfacilities\\n• Gener al Insurance \\n• Life Insurance and Income Protection (including Risk \\nInsurance and Investment Li fe insurance)\\n• Foreign Exchange (including Trave l Money Card)\\n• Superannuation\\nOur representatives may provide:\\n• personal advice on banking products, such as deposit \\naccounts and payment  facilities. \\n• general advice on General Insurance, Life Insurance, Foreign \\nExchange and Superannuation. If we provide you with general \\nadvice on these products we will also give you a Product \\nDisclosure Statement (PDS), which gives you information \\nabout the product on which we pr ovide advice  \\nand helps you to compare with simi lar products.\\nAssociations or relationships with other product issuers', 'When providing financial services that relate to the authorised \\nproduct groups, we are generally acting on our own behalf. \\nHowever, we may also act for the product issuer listed below \\nwhen we sell you the following products:\\nProduct Groups Product Issuer\\nGeneral Insurance products \\nsuch as Home and Car \\ninsuranceHollard Insurance Partners \\nLimited ABN 96 067 524 216 \\nAFSL 2350301\\nRisk Insurance products \\nsuch as Life Insurance and \\nIncome ProtectionAIA Australia Limited  \\nABN 79 004 837 861       \\nAFSL 2300431\\nEssential Super Avanteos Investments Limited \\nABN 20 096 259 979  \\nAFSL 2455312\\nGeneral Insurance products \\nsuch as Travel InsuranceZurich Australian Insurance \\nLimited ABN 13 000 296 640 \\nAFSL 232507 (Zurich) through \\nits agent Cover-More Insurance \\nServices Pty Ltd \\nABN 95 003 114 145  \\nAFSL 2417131\\n1 Not part of the Commonwealth Bank of Australia Group.\\n2  Avanteos Investments Limited is a subsidiary of Superannuation and', 'Investments HoldCo Pty Limited ABN 64 644 660 882 (HoldCo) and is \\npart of Colonial First State, which refers to HoldCo and its subsidiaries. \\nThe Bank holds a significant minority interest in HoldCo.Special instructions\\nWe generally require that you instruct us in person in relation  \\nto products and services, and we generally rely on your signature \\nto verify your instructions. \\nHowever, there are special arrangements in place for some \\nproducts and services where we can receive your instructions \\nelectronically via email, by telephone or fax. Where this is \\npossible, it will be specified in the terms and conditions for the \\nrelevant product.\\nWhere available, we are also able to accept instructions by other \\nmeans – for example, Braille and various foreign languages.  \\nIf you would prefer to instruct us in any of these ways, please \\nmake your request known to a member of our staff.\\nHow we, our staff and our brokers are paid for providing \\nfinancial services', 'Our staff are remunerated by salary that includes \\nsuperannuation benefits.  The amount of salary varies according \\nto the staff member’s position within the Bank.\\nOur staff may also be eligible for an incentive payment that  \\nis based on a number of factors. These include:\\n• business outcomes against overall b usiness plan;\\n• customer satisfaction agai nst plan; and\\n• other criteria such as productivity measures and  \\npeopl e leadership.\\nBusiness outcomes measure overall value adding activities \\nprovided to customers including, sales and referrals to other \\npersons in the Bank who specialise in certain products and/or \\nservices, against plan.  All staff members are required  \\nto meet minimum risk and compliance standards and \\ndemonstrate adherence to our group values to participate  \\nin incentive arrangements.\\nIn addition, staff are eligible to participate in recognition \\nprogrammes, which may include overseas travel.\\nOur staff may also receive benefits such as tickets to sporting', 'and cultural events, corporate promotional merchandise or other \\nsimilar benefits from product providers whose products they \\nmay sell or for business they may refer to those product \\nproviders.  You may request further details of these programmes \\nby contacting us within a reasonable time after receiving this \\nFSG and before any financial service is provided to you.\\nWe may receive commission for the sale of products from \\nHollard Insurance Partners Limited, AIA Australia Limited (AIA \\nAustralia) and Zurich Australian Insurance Limited.The table below is a summary of the range of commissions that \\nwe may receive:\\nProduct Commission Range\\nGeneral Insurance products \\nsuch as Home and Car \\ninsurance0% to 15% of the premium \\npaid\\nLife Insurance and Income \\nProtection products \\nincluding Risk Insurance and \\nLife Investment0% to 60% of the premium \\npaid or amount invested\\nTravel Insurance 35% of the premium paid\\nFor example, if you buy home insurance issued by Hollard', 'Insurance Partners Limited from us, the commission amount, \\nincluding GST, ranges between 0% to 15% of the premium paid \\n(excluding government charges). So, if you were to pay $100 \\nper month for your home insurance premium, we may earn $15 \\nper month commission from Hollard Insurance Partners Limited.\\nWe may also have a profit sharing arrangement in place with \\nproduct issuers whose products we sell.\\nOur brokers or other third party referrers (not part of the \\nCommonwealth Bank Group) may also receive benefits  \\nfrom Commonwealth Bank Group for referrals to the Bank  \\nby them in respect of the following products.\\nProduct Commission Amount/Range\\nGeneral Insurance products Up to $300\\nRisk Insurance products such \\nas Life Insurance and Income \\nProtectionUp to 17.5% of the first \\nyear’s premium\\nTerm Deposit Up to $200\\nBusiness Transaction \\nAccountUp to $100\\nBusiness Online Saver Up to $100Compensation arrangements \\nAs an authorised deposit-taking institution regulated by the', 'Australian Prudential Regulation Authority, we are exempt from \\nthe compensation requirements contained in the Corporations \\nAct 2001. However, we do have compensation and insurance \\narrangements in place.\\nHow we handle personal information of our customers\\nWe understand how important it is to protect personal \\ninformation. To find out how we collect, use and share personal \\ninformation, please refer to our Privacy Policy which is available \\nat commbank.com.au  or upon request from a ny branch of  \\nthe Bank.\\nThis Privacy Policy also explains:\\n• the steps we take to protect and secure personal  information;\\n• how we handle credit reports and other credit  information;\\n• how you can obtain a copy of your credi t report; and\\n• how you can access and correct personal information that we \\nhold about you.\\nWhat to do if you have a complaint\\nIf there’s something we can improve, or you’re not satisfied with \\nour products, services, staff or complaint handling process, it’s', 'important we hear about it so we can make things right.\\nTalk to us\\nMost problems can be resolved quickly and simply by talking \\nwith us. You can contact us:\\n• In person at any of  our branches\\n• By phone  1800 805 605\\n• By toll free fax  1800 028 542\\n• Online at commbank.co m.au/feedback\\nNational Relay Service \\n• TTY or Voice: Call 133 677  then as k for 13 2221\\n• Speak & listen: Call 1300 555 727  then as k for 13 2221\\n• SMS relay – Text  0423 677 767\\nFor more information, visit the National Relay Service: \\nrelayservice.com.au\\nOur staff will do everything they can to rectify your problem.  \\nWe strive, wherever possible, to resolve your complaint within  \\n5 working days. ADB2771 011022 (005-243)You can contact the CBA Customer Relations team  \\nby writing: \\nCBA Group Customer Relations  \\nReply Paid 41  \\nSydney NSW 2001  \\nIf you would like to have a third party help with your  \\ncomplaint, please give us written authority to discuss your \\ncomplaint with them.', 'You will be advised of the details (including the timeframes) of \\nour internal dispute resolution process, and an officer with the \\nappropriate authority to resolve the dispute will investigate your \\ncomplaint thoroughly. We will do our best to resolve any \\ncomplaint promptly and to your satisfaction.\\nExternal Dispute Resolution\\nIf you’re not satisfied with our handling of your complaint or our \\ndecision, you may refer your complaint to the Australian \\nFinancial Complaints Authority (AFCA). AFCA provides a fair \\nand independent dispute resolution service which is free for \\ncustomers to access.\\nWebsite: www.afca.org.au  \\nEmail: info@afca.org.au  \\nPhone: 1800 931 678  (free call)  \\nPostal address: Australian Financial Complaints Authority, GPO \\nBox 3, Melbourne, VIC, 3001\\nIt’s important you raise your concerns with us first before going \\nto AFCA, as AFCA will generally encourage this before they will \\ninvestigate.\\nWe’re here to help\\n• Message us  in the  CommBank app', '• Call 13 2221  or visit commbank.com .au/contactus\\n• Overseas? Message us or call +61 2 9999 3283\\n• Visit  us in person  at any of our bra nch locations\\n• In writing  addressed to GPO Box 2719, Syd ney NSW 1155.\\nCommonwealth Bank of Australia  \\nABN 48 123 123 124 AFSL and  \\nAustralian credit licence 234945']\n"
          ]
        }
      ]
    },
    {
      "cell_type": "code",
      "source": [
        "def convert_list_to_string_with_speech_marks(list_items):\n",
        "  \"\"\"Converts a list to a string with speech marks at each end.\"\"\"\n",
        "  string = \" \".join(list_items)\n",
        "  string = f\"\\\"{string}\\\"\"\n",
        "  return string\n",
        "\n",
        "\n",
        "#if __name__ == \"__main__\":\n",
        "#list_items = [\"This\", \"is\", \"a\", \"list\"]\n",
        "list_items = texts\n",
        "text = convert_list_to_string_with_speech_marks(list_items)\n",
        "#print(string)\n",
        "#print(text)"
      ],
      "metadata": {
        "id": "s248st7OsBfW"
      },
      "execution_count": 9,
      "outputs": []
    },
    {
      "cell_type": "code",
      "source": [
        "# # Create a generator using BART\n",
        "# from transformers import AutoModelForSeq2SeqLM\n",
        "# generator = AutoModelForSeq2SeqLM.from_pretrained(\"facebook/bart-large\")\n",
        "\n",
        "# # Define a function to generate an answer to a question\n",
        "# def generate_answer(question, context):\n",
        "#   \"\"\"Generates an answer to a question given a context.\"\"\"\n",
        "#   input_ids = generator.prepare_seq2seq_batch(\n",
        "#     input_ids=generator.tokenizer(question, return_tensors=\"pt\").input_ids,\n",
        "#     decoder_input_ids=generator.tokenizer(context, return_tensors=\"pt\").input_ids\n",
        "#   )[\"input_ids\"]\n",
        "\n",
        "#   outputs = generator.generate(input_ids)\n",
        "#   answer = generator.tokenizer.decode(outputs[0], skip_special_tokens=True)\n",
        "\n",
        "#   return answer\n",
        "context=text\n",
        "\n",
        "# -- Above from bard, below from an existing notebook of mine.\n",
        "# Define a function to generate an answer to a question\n",
        "from transformers import pipeline\n",
        "def generate_answer(question, context):\n",
        "  \"\"\"Generates an answer to a question given a context.\"\"\"\n",
        "  question_answerer = pipeline(\"question-answering\", model=\"deepset/roberta-base-squad2\")\n",
        "  response = question_answerer(question=question, context=text, max_answer_len=1024, top_p=1)\n",
        "  response = response[list(response)[-1]]\n",
        "\n",
        "  return response\n"
      ],
      "metadata": {
        "id": "Y7VyUMcPrMCB"
      },
      "execution_count": 11,
      "outputs": []
    },
    {
      "cell_type": "code",
      "source": [
        "#context"
      ],
      "metadata": {
        "id": "Q1_qWzejuGF7"
      },
      "execution_count": 52,
      "outputs": []
    },
    {
      "cell_type": "code",
      "source": [
        "# Generate an answer to the question\n",
        "\n",
        "#question = \"what is the Eligibility criteria for the Product\"\n",
        "question = \"what is the date\"\n",
        "\n",
        "answer = generate_answer(question, context)\n",
        "print(answer)"
      ],
      "metadata": {
        "colab": {
          "base_uri": "https://localhost:8080/"
        },
        "id": "XvpfhKoNsgpR",
        "outputId": "918f850f-0df9-4112-b249-37be93f74fe8"
      },
      "execution_count": 60,
      "outputs": [
        {
          "output_type": "stream",
          "name": "stdout",
          "text": [
            "1 October 2022\n"
          ]
        }
      ]
    },
    {
      "cell_type": "code",
      "source": [
        "# Define a function to get citations for an answer\n",
        "def get_citations(answer):\n",
        "  \"\"\"Gets citations for an answer.\"\"\"\n",
        "  citations = []\n",
        "\n",
        "  # Retrieve the relevant passages for the answer\n",
        "  #relevant_passages = retriever.search(embedder.encode(answer), k=5)\n",
        "  relevant_passages = retriever.search(embedder.encode(answer), k=5)[0]\n",
        "  citations = get_citations(relevant_passages)\n",
        "\n",
        "  # # For each relevant passage, get the citation\n",
        "  # for passage_index in relevant_passages:\n",
        "  #   #passage = passages[passage_index]\n",
        "  #   passage = text[passage_index]\n",
        "  #   citation = loader.get_citation(passage)\n",
        "  #   citations.append(citation)\n",
        "\n",
        "  return citations\n",
        "\n",
        "\n",
        "\n",
        "# Start a loop to answer questions\n",
        "while True:\n",
        "  question = input(\"Ask me a question: \")\n",
        "  # Generate an answer to the question\n",
        "  answer = generate_answer(question, context)\n",
        "\n",
        "\n",
        "  # Get citations for the answer\n",
        "  citations = get_citations(answer)\n",
        "\n",
        "  # Print the answer and the citations\n",
        "  print(answer)\n",
        "\n",
        "  # for citation in citations:\n",
        "  #   print(citation)"
      ],
      "metadata": {
        "colab": {
          "base_uri": "https://localhost:8080/",
          "height": 407
        },
        "id": "uXMOERzAw0uM",
        "outputId": "79704925-3ad3-441b-e919-d4bd2a31bd76"
      },
      "execution_count": 22,
      "outputs": [
        {
          "name": "stdout",
          "output_type": "stream",
          "text": [
            "Ask me a question: what is the date\n"
          ]
        },
        {
          "output_type": "error",
          "ename": "ValueError",
          "evalue": "ignored",
          "traceback": [
            "\u001b[0;31m---------------------------------------------------------------------------\u001b[0m",
            "\u001b[0;31mValueError\u001b[0m                                Traceback (most recent call last)",
            "\u001b[0;32m<ipython-input-22-5adb6220bbdd>\u001b[0m in \u001b[0;36m<cell line: 23>\u001b[0;34m()\u001b[0m\n\u001b[1;32m     28\u001b[0m \u001b[0;34m\u001b[0m\u001b[0m\n\u001b[1;32m     29\u001b[0m   \u001b[0;31m# Get citations for the answer\u001b[0m\u001b[0;34m\u001b[0m\u001b[0;34m\u001b[0m\u001b[0m\n\u001b[0;32m---> 30\u001b[0;31m   \u001b[0mcitations\u001b[0m \u001b[0;34m=\u001b[0m \u001b[0mget_citations\u001b[0m\u001b[0;34m(\u001b[0m\u001b[0manswer\u001b[0m\u001b[0;34m)\u001b[0m\u001b[0;34m\u001b[0m\u001b[0;34m\u001b[0m\u001b[0m\n\u001b[0m\u001b[1;32m     31\u001b[0m \u001b[0;34m\u001b[0m\u001b[0m\n\u001b[1;32m     32\u001b[0m   \u001b[0;31m# Print the answer and the citations\u001b[0m\u001b[0;34m\u001b[0m\u001b[0;34m\u001b[0m\u001b[0m\n",
            "\u001b[0;32m<ipython-input-22-5adb6220bbdd>\u001b[0m in \u001b[0;36mget_citations\u001b[0;34m(answer)\u001b[0m\n\u001b[1;32m      6\u001b[0m   \u001b[0;31m# Retrieve the relevant passages for the answer\u001b[0m\u001b[0;34m\u001b[0m\u001b[0;34m\u001b[0m\u001b[0m\n\u001b[1;32m      7\u001b[0m   \u001b[0;31m#relevant_passages = retriever.search(embedder.encode(answer), k=5)\u001b[0m\u001b[0;34m\u001b[0m\u001b[0;34m\u001b[0m\u001b[0m\n\u001b[0;32m----> 8\u001b[0;31m   \u001b[0mrelevant_passages\u001b[0m \u001b[0;34m=\u001b[0m \u001b[0mretriever\u001b[0m\u001b[0;34m.\u001b[0m\u001b[0msearch\u001b[0m\u001b[0;34m(\u001b[0m\u001b[0membedder\u001b[0m\u001b[0;34m.\u001b[0m\u001b[0mencode\u001b[0m\u001b[0;34m(\u001b[0m\u001b[0manswer\u001b[0m\u001b[0;34m)\u001b[0m\u001b[0;34m,\u001b[0m \u001b[0mk\u001b[0m\u001b[0;34m=\u001b[0m\u001b[0;36m5\u001b[0m\u001b[0;34m)\u001b[0m\u001b[0;34m[\u001b[0m\u001b[0;36m0\u001b[0m\u001b[0;34m]\u001b[0m\u001b[0;34m\u001b[0m\u001b[0;34m\u001b[0m\u001b[0m\n\u001b[0m\u001b[1;32m      9\u001b[0m   \u001b[0mcitations\u001b[0m \u001b[0;34m=\u001b[0m \u001b[0mget_citations\u001b[0m\u001b[0;34m(\u001b[0m\u001b[0mrelevant_passages\u001b[0m\u001b[0;34m)\u001b[0m\u001b[0;34m\u001b[0m\u001b[0;34m\u001b[0m\u001b[0m\n\u001b[1;32m     10\u001b[0m \u001b[0;34m\u001b[0m\u001b[0m\n",
            "\u001b[0;32m/usr/local/lib/python3.10/dist-packages/faiss/__init__.py\u001b[0m in \u001b[0;36mreplacement_search\u001b[0;34m(self, x, k, D, I)\u001b[0m\n\u001b[1;32m    305\u001b[0m         \"\"\"\n\u001b[1;32m    306\u001b[0m \u001b[0;34m\u001b[0m\u001b[0m\n\u001b[0;32m--> 307\u001b[0;31m         \u001b[0mn\u001b[0m\u001b[0;34m,\u001b[0m \u001b[0md\u001b[0m \u001b[0;34m=\u001b[0m \u001b[0mx\u001b[0m\u001b[0;34m.\u001b[0m\u001b[0mshape\u001b[0m\u001b[0;34m\u001b[0m\u001b[0;34m\u001b[0m\u001b[0m\n\u001b[0m\u001b[1;32m    308\u001b[0m         \u001b[0;32massert\u001b[0m \u001b[0md\u001b[0m \u001b[0;34m==\u001b[0m \u001b[0mself\u001b[0m\u001b[0;34m.\u001b[0m\u001b[0md\u001b[0m\u001b[0;34m\u001b[0m\u001b[0;34m\u001b[0m\u001b[0m\n\u001b[1;32m    309\u001b[0m \u001b[0;34m\u001b[0m\u001b[0m\n",
            "\u001b[0;31mValueError\u001b[0m: not enough values to unpack (expected 2, got 1)"
          ]
        }
      ]
    },
    {
      "cell_type": "code",
      "source": [
        "#relevant_passages = retriever.search(embedder.encode(answer), k=5)\n",
        "a = embedder\n",
        "a"
      ],
      "metadata": {
        "colab": {
          "base_uri": "https://localhost:8080/"
        },
        "id": "HAftP-f93Y21",
        "outputId": "b36e521c-4186-4232-9f3a-ba2366d8da15"
      },
      "execution_count": 29,
      "outputs": [
        {
          "output_type": "execute_result",
          "data": {
            "text/plain": [
              "SentenceTransformer(\n",
              "  (0): Transformer({'max_seq_length': 256, 'do_lower_case': False}) with Transformer model: BertModel \n",
              "  (1): Pooling({'word_embedding_dimension': 384, 'pooling_mode_cls_token': False, 'pooling_mode_mean_tokens': True, 'pooling_mode_max_tokens': False, 'pooling_mode_mean_sqrt_len_tokens': False})\n",
              "  (2): Normalize()\n",
              ")"
            ]
          },
          "metadata": {},
          "execution_count": 29
        }
      ]
    },
    {
      "cell_type": "code",
      "source": [],
      "metadata": {
        "id": "YvDSZk9n3Y0J"
      },
      "execution_count": null,
      "outputs": []
    },
    {
      "cell_type": "code",
      "source": [
        "\n",
        "\n",
        "# Define a function to get citations for an answer\n",
        "def get_citations(answer):\n",
        "  \"\"\"Gets citations for an answer.\"\"\"\n",
        "  citations = []\n",
        "\n",
        "  # Retrieve the relevant passages for the answer\n",
        "  relevant_passages = retriever.search(embedder.encode(answer), k=5)\n",
        "\n",
        "  # For each relevant passage, get the citation\n",
        "  for passage_index in relevant_passages:\n",
        "    #passage = passages[passage_index]\n",
        "    passage = text[passage_index]\n",
        "    citation = loader.get_citation(passage)\n",
        "    citations.append(citation)\n",
        "\n",
        "  return citations\n",
        "\n",
        "# Create a context dictionary to store the PDF document and the retriever\n",
        "context = {\n",
        "  \"document\": loader,\n",
        "  \"retriever\": retriever\n",
        "}\n",
        "\n",
        "# Start a loop to answer questions\n",
        "while True:\n",
        "  question = input(\"Ask me a question: \")\n",
        "  # Generate an answer to the question\n",
        "  answer = generate_answer(question, context)\n",
        "\n",
        "\n",
        "  # Get citations for the answer\n",
        "  citations = get_citations(answer)\n",
        "\n",
        "  # Print the answer and the citations\n",
        "  print(answer)\n",
        "\n",
        "  # for citation in citations:\n",
        "  #   print(citation)\n"
      ],
      "metadata": {
        "colab": {
          "base_uri": "https://localhost:8080/",
          "height": 262
        },
        "id": "rUHhQfQjmhyP",
        "outputId": "5d3a66b7-404d-4a60-9ee4-33cfb9732594"
      },
      "execution_count": 59,
      "outputs": [
        {
          "name": "stdout",
          "output_type": "stream",
          "text": [
            "Ask me a question: what is the date\n"
          ]
        },
        {
          "output_type": "error",
          "ename": "TypeError",
          "evalue": "ignored",
          "traceback": [
            "\u001b[0;31m---------------------------------------------------------------------------\u001b[0m",
            "\u001b[0;31mTypeError\u001b[0m                                 Traceback (most recent call last)",
            "\u001b[0;32m<ipython-input-59-504d1a063738>\u001b[0m in \u001b[0;36m<cell line: 25>\u001b[0;34m()\u001b[0m\n\u001b[1;32m     28\u001b[0m   \u001b[0;31m# Generate an answer to the question\u001b[0m\u001b[0;34m\u001b[0m\u001b[0;34m\u001b[0m\u001b[0m\n\u001b[1;32m     29\u001b[0m   \u001b[0;31m#answer = generate_answer(question, context)\u001b[0m\u001b[0;34m\u001b[0m\u001b[0;34m\u001b[0m\u001b[0m\n\u001b[0;32m---> 30\u001b[0;31m   \u001b[0manswer\u001b[0m \u001b[0;34m=\u001b[0m \u001b[0mgenerate_answer\u001b[0m\u001b[0;34m(\u001b[0m\u001b[0mquestion\u001b[0m\u001b[0;34m)\u001b[0m\u001b[0;34m\u001b[0m\u001b[0;34m\u001b[0m\u001b[0m\n\u001b[0m\u001b[1;32m     31\u001b[0m \u001b[0;34m\u001b[0m\u001b[0m\n\u001b[1;32m     32\u001b[0m   \u001b[0;31m# Get citations for the answer\u001b[0m\u001b[0;34m\u001b[0m\u001b[0;34m\u001b[0m\u001b[0m\n",
            "\u001b[0;31mTypeError\u001b[0m: generate_answer() missing 1 required positional argument: 'context'"
          ]
        }
      ]
    },
    {
      "cell_type": "code",
      "source": [
        "question = \"what is the date\"\n",
        "\n",
        "answer = generate_answer(question, context)\n",
        "print(answer)"
      ],
      "metadata": {
        "id": "_YhaywhdpXRb"
      },
      "execution_count": 59,
      "outputs": []
    },
    {
      "cell_type": "code",
      "source": [],
      "metadata": {
        "id": "HmX1PjlMzuTY"
      },
      "execution_count": null,
      "outputs": []
    },
    {
      "cell_type": "code",
      "source": [],
      "metadata": {
        "id": "SBBmxT12zuQl"
      },
      "execution_count": null,
      "outputs": []
    },
    {
      "cell_type": "code",
      "source": [],
      "metadata": {
        "id": "EqzPBkxVzuNo"
      },
      "execution_count": null,
      "outputs": []
    },
    {
      "cell_type": "code",
      "source": [],
      "metadata": {
        "id": "fIdCgVuizuKt"
      },
      "execution_count": null,
      "outputs": []
    },
    {
      "cell_type": "code",
      "source": [],
      "metadata": {
        "id": "p9OL3XdMzuH5"
      },
      "execution_count": null,
      "outputs": []
    },
    {
      "cell_type": "code",
      "source": [],
      "metadata": {
        "id": "ujMgBwhl2Oc_"
      },
      "execution_count": null,
      "outputs": []
    }
  ]
}